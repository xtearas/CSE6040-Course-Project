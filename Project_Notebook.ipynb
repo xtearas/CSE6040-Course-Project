{
 "cells": [
  {
   "cell_type": "markdown",
   "metadata": {},
   "source": [
    "## Estimating Energy Reference Area of Residential Buildings in Switzerland\n",
    "\n",
    "### Summary\n",
    "\n",
    "The energy reference area (ERA) is the sum of all gross floor area above and below ground that requires heating or air conditioning for occupancy. \n",
    "\n",
    "This exercise is about exploring a way to estimate ERA of buildings located in Switzerland by using geo-spatial datasets. The choice of the predictors, gross area, footprint area and number of floors, is based on the study conducted by [Thomas Schluck et al 2019 J. Phys.: Conf. Ser. 1343 012031](https://doi.org/10.1088/1742-6596/1343/1/012031)\n",
    "\n",
    "### Data Sources\n",
    "\n",
    "Data about 2200 buildings has been gathered from GeoAdmin API and matched by building id to their respective certification information.\n",
    "\n",
    "For each building, Minergie certificate data has been requested from https://www.geocat.ch/geonetwork/srv/eng/catalog.search#/metadata/ad60a67c-f0a0-41fa-84f2-20b8565c9da9\n",
    "\n",
    "Building register information 'swiss_buildings.csv' has been requested via API calls from: https://www.geocat.ch/geonetwork/srv/eng/catalog.search#/metadata/56553efe-4a2c-449d-93ba-cf7edd518d56 and merged with additional information about ERA for each building taken from https://www.minergie.ch/de/gebaeude/ \n",
    "\n",
    "Building footprint geometry data 'building_geometries.gpkg' was obtained from https://data.geo.admin.ch/browser/index.html#/collections/ch.bfe.solarenergie-eignung-fassaden/items/solarenergie-eignung-fassaden \n",
    "\n",
    "Since all these datasets are quite large, by using geopandas, osgeo and SQL queries only data for certain buildings was extracted for the purpose of this exercise.\n",
    "\n",
    "### Disclaimer:\n",
    "\n",
    "This project contains information taken from https://api3.geo.admin.ch/ and https://www.minergie.ch/de/gebaeude/\n",
    "\n",
    "I do not own these data. The data is open access and available under these terms: https://www.geo.admin.ch/en/general-terms-of-use-fsdi"
   ]
  },
  {
   "cell_type": "code",
   "execution_count": 46,
   "metadata": {
    "collapsed": true
   },
   "outputs": [],
   "source": [
    "import pandas as pd\n",
    "import geopandas as gpd\n",
    "from shapely import geometry, ops\n",
    "from shapely.geometry.polygon import Polygon\n",
    "import numpy as np\n",
    "import seaborn as sns\n",
    "import matplotlib.pyplot as plt"
   ]
  },
  {
   "cell_type": "code",
   "execution_count": 47,
   "metadata": {},
   "outputs": [
    {
     "data": {
      "text/html": [
       "<div>\n",
       "<style scoped>\n",
       "    .dataframe tbody tr th:only-of-type {\n",
       "        vertical-align: middle;\n",
       "    }\n",
       "\n",
       "    .dataframe tbody tr th {\n",
       "        vertical-align: top;\n",
       "    }\n",
       "\n",
       "    .dataframe thead th {\n",
       "        text-align: right;\n",
       "    }\n",
       "</style>\n",
       "<table border=\"1\" class=\"dataframe\">\n",
       "  <thead>\n",
       "    <tr style=\"text-align: right;\">\n",
       "      <th></th>\n",
       "      <th>Id</th>\n",
       "      <th>municipality</th>\n",
       "      <th>address</th>\n",
       "      <th>canton</th>\n",
       "      <th>status</th>\n",
       "      <th>category</th>\n",
       "      <th>class</th>\n",
       "      <th>year</th>\n",
       "      <th>stories</th>\n",
       "      <th>certificate</th>\n",
       "      <th>standard</th>\n",
       "      <th>longitude_ch</th>\n",
       "      <th>latitude_ch</th>\n",
       "      <th>energy</th>\n",
       "      <th>ERA</th>\n",
       "    </tr>\n",
       "  </thead>\n",
       "  <tbody>\n",
       "    <tr>\n",
       "      <th>0</th>\n",
       "      <td>280075488</td>\n",
       "      <td>Pully</td>\n",
       "      <td>Avenue Charles Ferdinand Ramuz 74</td>\n",
       "      <td>VD</td>\n",
       "      <td>1004</td>\n",
       "      <td>1060</td>\n",
       "      <td>1220.0</td>\n",
       "      <td>2013.0</td>\n",
       "      <td>NaN</td>\n",
       "      <td>VD-560</td>\n",
       "      <td>Minergie</td>\n",
       "      <td>539094.0</td>\n",
       "      <td>151261.0</td>\n",
       "      <td>7513.0</td>\n",
       "      <td>1006</td>\n",
       "    </tr>\n",
       "    <tr>\n",
       "      <th>1</th>\n",
       "      <td>280077140</td>\n",
       "      <td>Chavannes-près-Renens</td>\n",
       "      <td>Avenue de la Gare 29</td>\n",
       "      <td>VD</td>\n",
       "      <td>1004</td>\n",
       "      <td>1020</td>\n",
       "      <td>1122.0</td>\n",
       "      <td>2012.0</td>\n",
       "      <td>4.0</td>\n",
       "      <td>VD-794</td>\n",
       "      <td>Minergie</td>\n",
       "      <td>533958.0</td>\n",
       "      <td>153907.0</td>\n",
       "      <td>7520.0</td>\n",
       "      <td>1446</td>\n",
       "    </tr>\n",
       "    <tr>\n",
       "      <th>2</th>\n",
       "      <td>280057839</td>\n",
       "      <td>Boussens</td>\n",
       "      <td>Chemin de l'Etang 1b</td>\n",
       "      <td>VD</td>\n",
       "      <td>1004</td>\n",
       "      <td>1020</td>\n",
       "      <td>1110.0</td>\n",
       "      <td>2009.0</td>\n",
       "      <td>2.0</td>\n",
       "      <td>VD-312</td>\n",
       "      <td>Minergie</td>\n",
       "      <td>534672.0</td>\n",
       "      <td>161503.0</td>\n",
       "      <td>7501.0</td>\n",
       "      <td>225</td>\n",
       "    </tr>\n",
       "    <tr>\n",
       "      <th>3</th>\n",
       "      <td>280079581</td>\n",
       "      <td>Saint-Sulpice (VD)</td>\n",
       "      <td>Route Cantonale 13.3</td>\n",
       "      <td>VD</td>\n",
       "      <td>1004</td>\n",
       "      <td>1060</td>\n",
       "      <td>1265.0</td>\n",
       "      <td>2012.0</td>\n",
       "      <td>NaN</td>\n",
       "      <td>VD-052-ECO</td>\n",
       "      <td>Minergie_Eco</td>\n",
       "      <td>534073.0</td>\n",
       "      <td>152311.0</td>\n",
       "      <td>7580.0</td>\n",
       "      <td>2489</td>\n",
       "    </tr>\n",
       "    <tr>\n",
       "      <th>4</th>\n",
       "      <td>280082602</td>\n",
       "      <td>Renens (VD)</td>\n",
       "      <td>Rue du Lac 83</td>\n",
       "      <td>VD</td>\n",
       "      <td>1004</td>\n",
       "      <td>1020</td>\n",
       "      <td>1110.0</td>\n",
       "      <td>2013.0</td>\n",
       "      <td>2.0</td>\n",
       "      <td>VD-1408</td>\n",
       "      <td>Minergie</td>\n",
       "      <td>535340.0</td>\n",
       "      <td>152918.0</td>\n",
       "      <td>7501.0</td>\n",
       "      <td>190</td>\n",
       "    </tr>\n",
       "  </tbody>\n",
       "</table>\n",
       "</div>"
      ],
      "text/plain": [
       "          Id           municipality                            address canton  \\\n",
       "0  280075488                  Pully  Avenue Charles Ferdinand Ramuz 74     VD   \n",
       "1  280077140  Chavannes-près-Renens               Avenue de la Gare 29     VD   \n",
       "2  280057839               Boussens               Chemin de l'Etang 1b     VD   \n",
       "3  280079581     Saint-Sulpice (VD)               Route Cantonale 13.3     VD   \n",
       "4  280082602            Renens (VD)                      Rue du Lac 83     VD   \n",
       "\n",
       "   status  category   class    year  stories certificate      standard  \\\n",
       "0    1004      1060  1220.0  2013.0      NaN      VD-560      Minergie   \n",
       "1    1004      1020  1122.0  2012.0      4.0      VD-794      Minergie   \n",
       "2    1004      1020  1110.0  2009.0      2.0      VD-312      Minergie   \n",
       "3    1004      1060  1265.0  2012.0      NaN  VD-052-ECO  Minergie_Eco   \n",
       "4    1004      1020  1110.0  2013.0      2.0     VD-1408      Minergie   \n",
       "\n",
       "   longitude_ch  latitude_ch  energy   ERA  \n",
       "0      539094.0     151261.0  7513.0  1006  \n",
       "1      533958.0     153907.0  7520.0  1446  \n",
       "2      534672.0     161503.0  7501.0   225  \n",
       "3      534073.0     152311.0  7580.0  2489  \n",
       "4      535340.0     152918.0  7501.0   190  "
      ]
     },
     "execution_count": 47,
     "metadata": {},
     "output_type": "execute_result"
    }
   ],
   "source": [
    "buildings = pd.read_csv('./datasets/swiss_buildings.csv', sep=',')\n",
    "buildings.head()"
   ]
  },
  {
   "cell_type": "code",
   "execution_count": 48,
   "metadata": {},
   "outputs": [
    {
     "data": {
      "text/plain": [
       "(2287, 15)"
      ]
     },
     "execution_count": 48,
     "metadata": {},
     "output_type": "execute_result"
    }
   ],
   "source": [
    "buildings.shape"
   ]
  },
  {
   "cell_type": "markdown",
   "metadata": {
    "collapsed": true
   },
   "source": [
    "The variables 'status', 'category', 'class' and 'energy' are numerical place holders for categorical varialbes. For example 'status 1004' means 'existant' building. All those categories are stored in 'kodes_codes_codici.csv'. This data has been obtained from https://www.housing-stat.ch/de/madd/public.html"
   ]
  },
  {
   "cell_type": "code",
   "execution_count": 49,
   "metadata": {},
   "outputs": [
    {
     "data": {
      "text/html": [
       "<div>\n",
       "<style scoped>\n",
       "    .dataframe tbody tr th:only-of-type {\n",
       "        vertical-align: middle;\n",
       "    }\n",
       "\n",
       "    .dataframe tbody tr th {\n",
       "        vertical-align: top;\n",
       "    }\n",
       "\n",
       "    .dataframe thead th {\n",
       "        text-align: right;\n",
       "    }\n",
       "</style>\n",
       "<table border=\"1\" class=\"dataframe\">\n",
       "  <thead>\n",
       "    <tr style=\"text-align: right;\">\n",
       "      <th></th>\n",
       "      <th>CMERKM</th>\n",
       "      <th>CODTXTLD</th>\n",
       "      <th>CODTXTKD</th>\n",
       "      <th>CODTXTLF</th>\n",
       "      <th>CODTXTKF</th>\n",
       "      <th>CODTXTLI</th>\n",
       "      <th>CODTXTKI</th>\n",
       "      <th>CEXPDAT</th>\n",
       "    </tr>\n",
       "    <tr>\n",
       "      <th>CECODID</th>\n",
       "      <th></th>\n",
       "      <th></th>\n",
       "      <th></th>\n",
       "      <th></th>\n",
       "      <th></th>\n",
       "      <th></th>\n",
       "      <th></th>\n",
       "      <th></th>\n",
       "    </tr>\n",
       "  </thead>\n",
       "  <tbody>\n",
       "    <tr>\n",
       "      <th>0</th>\n",
       "      <td>DOFFADR</td>\n",
       "      <td>Nein</td>\n",
       "      <td>Nein</td>\n",
       "      <td>Non</td>\n",
       "      <td>Non</td>\n",
       "      <td>No</td>\n",
       "      <td>No</td>\n",
       "      <td>19.11.2023</td>\n",
       "    </tr>\n",
       "    <tr>\n",
       "      <th>0</th>\n",
       "      <td>GSCHUTZR</td>\n",
       "      <td>Nein</td>\n",
       "      <td>Nein</td>\n",
       "      <td>Non</td>\n",
       "      <td>Non</td>\n",
       "      <td>No</td>\n",
       "      <td>No</td>\n",
       "      <td>19.11.2023</td>\n",
       "    </tr>\n",
       "    <tr>\n",
       "      <th>0</th>\n",
       "      <td>WKCHE</td>\n",
       "      <td>Nein</td>\n",
       "      <td>Nein</td>\n",
       "      <td>Non</td>\n",
       "      <td>Non</td>\n",
       "      <td>No</td>\n",
       "      <td>No</td>\n",
       "      <td>19.11.2023</td>\n",
       "    </tr>\n",
       "    <tr>\n",
       "      <th>0</th>\n",
       "      <td>WMEHRG</td>\n",
       "      <td>Nein</td>\n",
       "      <td>Nein</td>\n",
       "      <td>Non</td>\n",
       "      <td>Non</td>\n",
       "      <td>No</td>\n",
       "      <td>No</td>\n",
       "      <td>19.11.2023</td>\n",
       "    </tr>\n",
       "    <tr>\n",
       "      <th>1</th>\n",
       "      <td>DOFFADR</td>\n",
       "      <td>Ja</td>\n",
       "      <td>Ja</td>\n",
       "      <td>Oui</td>\n",
       "      <td>Oui</td>\n",
       "      <td>Sì</td>\n",
       "      <td>Sì</td>\n",
       "      <td>19.11.2023</td>\n",
       "    </tr>\n",
       "  </tbody>\n",
       "</table>\n",
       "</div>"
      ],
      "text/plain": [
       "           CMERKM CODTXTLD CODTXTKD CODTXTLF CODTXTKF CODTXTLI CODTXTKI  \\\n",
       "CECODID                                                                   \n",
       "0         DOFFADR     Nein     Nein      Non      Non       No       No   \n",
       "0        GSCHUTZR     Nein     Nein      Non      Non       No       No   \n",
       "0           WKCHE     Nein     Nein      Non      Non       No       No   \n",
       "0          WMEHRG     Nein     Nein      Non      Non       No       No   \n",
       "1         DOFFADR       Ja       Ja      Oui      Oui       Sì       Sì   \n",
       "\n",
       "            CEXPDAT  \n",
       "CECODID              \n",
       "0        19.11.2023  \n",
       "0        19.11.2023  \n",
       "0        19.11.2023  \n",
       "0        19.11.2023  \n",
       "1        19.11.2023  "
      ]
     },
     "execution_count": 49,
     "metadata": {},
     "output_type": "execute_result"
    }
   ],
   "source": [
    "# This data has been obtained from https://www.housing-stat.ch/de/madd/public.html\n",
    "codes = pd.read_csv('./datasets/kodes_codes_codici.csv', sep='\\t').set_index('CECODID')\n",
    "codes.head()"
   ]
  },
  {
   "cell_type": "code",
   "execution_count": 50,
   "metadata": {},
   "outputs": [
    {
     "data": {
      "text/plain": [
       "'Gebäude bestehend'"
      ]
     },
     "execution_count": 50,
     "metadata": {},
     "output_type": "execute_result"
    }
   ],
   "source": [
    "codes.loc[1004]['CODTXTLD']"
   ]
  },
  {
   "cell_type": "code",
   "execution_count": 51,
   "metadata": {},
   "outputs": [
    {
     "data": {
      "text/html": [
       "<div>\n",
       "<style scoped>\n",
       "    .dataframe tbody tr th:only-of-type {\n",
       "        vertical-align: middle;\n",
       "    }\n",
       "\n",
       "    .dataframe tbody tr th {\n",
       "        vertical-align: top;\n",
       "    }\n",
       "\n",
       "    .dataframe thead th {\n",
       "        text-align: right;\n",
       "    }\n",
       "</style>\n",
       "<table border=\"1\" class=\"dataframe\">\n",
       "  <thead>\n",
       "    <tr style=\"text-align: right;\">\n",
       "      <th></th>\n",
       "      <th>CMERKM</th>\n",
       "      <th>CODTXTLD</th>\n",
       "      <th>CODTXTKD</th>\n",
       "      <th>CODTXTLF</th>\n",
       "      <th>CODTXTKF</th>\n",
       "      <th>CODTXTLI</th>\n",
       "      <th>CODTXTKI</th>\n",
       "      <th>CEXPDAT</th>\n",
       "    </tr>\n",
       "  </thead>\n",
       "  <tbody>\n",
       "    <tr>\n",
       "      <th>1060</th>\n",
       "      <td>GKAT</td>\n",
       "      <td>Gebäude ohne Wohnnutzung</td>\n",
       "      <td>Ohne Wohnnutzung</td>\n",
       "      <td>Bâtiment sans usage d'habitation</td>\n",
       "      <td>Sans usage d'habitation</td>\n",
       "      <td>Edificio ad uso non abitativo</td>\n",
       "      <td>Edificio non abitativo</td>\n",
       "      <td>19.11.2023</td>\n",
       "    </tr>\n",
       "  </tbody>\n",
       "</table>\n",
       "</div>"
      ],
      "text/plain": [
       "     CMERKM                  CODTXTLD          CODTXTKD  \\\n",
       "1060   GKAT  Gebäude ohne Wohnnutzung  Ohne Wohnnutzung   \n",
       "\n",
       "                              CODTXTLF                 CODTXTKF  \\\n",
       "1060  Bâtiment sans usage d'habitation  Sans usage d'habitation   \n",
       "\n",
       "                           CODTXTLI                CODTXTKI     CEXPDAT  \n",
       "1060  Edificio ad uso non abitativo  Edificio non abitativo  19.11.2023  "
      ]
     },
     "execution_count": 51,
     "metadata": {},
     "output_type": "execute_result"
    }
   ],
   "source": [
    "pd.DataFrame(codes.loc[1060]).T"
   ]
  },
  {
   "cell_type": "markdown",
   "metadata": {},
   "source": [
    "\"Gebäude ohne Wohnnutzung\" means \"A building with no residential use\""
   ]
  },
  {
   "cell_type": "code",
   "execution_count": 52,
   "metadata": {},
   "outputs": [
    {
     "data": {
      "text/plain": [
       "{1001: 1, 1003: 2, 1004: 2284}"
      ]
     },
     "execution_count": 52,
     "metadata": {},
     "output_type": "execute_result"
    }
   ],
   "source": [
    "buildings_status = buildings.groupby('status').apply(lambda x: x.shape[0]).to_dict()\n",
    "buildings_status"
   ]
  },
  {
   "cell_type": "code",
   "execution_count": 53,
   "metadata": {},
   "outputs": [
    {
     "data": {
      "text/plain": [
       "{'Gebäude projektiert': 1, 'Gebäude im Bau': 2, 'Gebäude bestehend': 2284}"
      ]
     },
     "execution_count": 53,
     "metadata": {},
     "output_type": "execute_result"
    }
   ],
   "source": [
    "buildings_statust_DE = {}\n",
    "for key in buildings_status:\n",
    "    buildings_statust_DE[codes.loc[key]['CODTXTLD']] = buildings_status[key]\n",
    "buildings_statust_DE"
   ]
  },
  {
   "cell_type": "markdown",
   "metadata": {},
   "source": [
    "Translated this means: \n",
    "\n",
    "1 Buildings planned ('Gebäude projektiert'), \n",
    "\n",
    "2 Buildings under construction ('Gebäude im Bau'), \n",
    "\n",
    "2284 Existing buildings ('Gebäude bestehend')."
   ]
  },
  {
   "cell_type": "code",
   "execution_count": 54,
   "metadata": {},
   "outputs": [
    {
     "data": {
      "text/plain": [
       "{1020: 2001, 1030: 113, 1040: 52, 1060: 120, 1080: 1}"
      ]
     },
     "execution_count": 54,
     "metadata": {},
     "output_type": "execute_result"
    }
   ],
   "source": [
    "buildings_category = buildings.groupby('category').apply(lambda x: x.shape[0]).to_dict()\n",
    "buildings_category"
   ]
  },
  {
   "cell_type": "code",
   "execution_count": 55,
   "metadata": {},
   "outputs": [
    {
     "data": {
      "text/plain": [
       "{'Gebäude mit ausschliesslicher Wohnnutzung': 2001,\n",
       " 'Andere Wohngebäude (Wohngebäude mit Nebennutzung)': 113,\n",
       " 'Gebäude mit teilweiser Wohnnutzung': 52,\n",
       " 'Gebäude ohne Wohnnutzung': 120,\n",
       " 'Sonderbau': 1}"
      ]
     },
     "execution_count": 55,
     "metadata": {},
     "output_type": "execute_result"
    }
   ],
   "source": [
    "buildings_category_DE = {}\n",
    "for key in buildings_category:\n",
    "    buildings_category_DE[codes.loc[key]['CODTXTLD']] = buildings_category[key]\n",
    "buildings_category_DE"
   ]
  },
  {
   "cell_type": "markdown",
   "metadata": {},
   "source": [
    "Translated this means:\n",
    "\n",
    "'Buildings with exclusively residential use': 2001,\n",
    "\n",
    "'Other residential buildings (residential buildings with secondary use)': 113,\n",
    "\n",
    "'Buildings with partial residential use': 52,\n",
    "\n",
    "'Buildings without residential use': 120,\n",
    "\n",
    "'Special building': 1"
   ]
  },
  {
   "cell_type": "code",
   "execution_count": 56,
   "metadata": {},
   "outputs": [
    {
     "data": {
      "text/plain": [
       "{1110.0: 1275,\n",
       " 1121.0: 104,\n",
       " 1122.0: 735,\n",
       " 1130.0: 12,\n",
       " 1211.0: 4,\n",
       " 1220.0: 26,\n",
       " 1230.0: 15,\n",
       " 1242.0: 3,\n",
       " 1251.0: 22,\n",
       " 1252.0: 3,\n",
       " 1261.0: 6,\n",
       " 1263.0: 26,\n",
       " 1264.0: 5,\n",
       " 1265.0: 4,\n",
       " 1271.0: 1,\n",
       " 1272.0: 2,\n",
       " 1274.0: 11}"
      ]
     },
     "execution_count": 56,
     "metadata": {},
     "output_type": "execute_result"
    }
   ],
   "source": [
    "buildings_class = buildings.groupby('class').apply(lambda x: x.shape[0]).to_dict()\n",
    "buildings_class"
   ]
  },
  {
   "cell_type": "code",
   "execution_count": 57,
   "metadata": {},
   "outputs": [
    {
     "data": {
      "text/plain": [
       "{'Gebäude mit einer Wohnung': 1275,\n",
       " 'Gebäude mit zwei  Wohnungen': 104,\n",
       " 'Gebäude mit drei oder mehr Wohnungen': 735,\n",
       " 'Wohngebäude für Gemeinschaften': 12,\n",
       " 'Hotelgebäude': 4,\n",
       " 'Bürogebäude': 26,\n",
       " 'Gross-und Einzelhandelsgebäude': 15,\n",
       " 'Garagengebäude': 3,\n",
       " 'Industriegebäude': 22,\n",
       " 'Behälter, Silos und Lagergebäude': 3,\n",
       " 'Gebäude für Kultur- und Freizeitzwecke': 6,\n",
       " 'Schul- und Hochschulgebäude, Forschungseinrichtungen': 26,\n",
       " 'Krankenhäuser und Facheinrichtungen des Gesundheitswesens': 5,\n",
       " 'Sporthallen': 4,\n",
       " 'Landwirtschaftliche Betriebsgebäude': 1,\n",
       " 'Kirchen und sonstige Kultgebäude': 2,\n",
       " 'Sonstige Hochbauten, anderweitig nicht genannt': 11}"
      ]
     },
     "execution_count": 57,
     "metadata": {},
     "output_type": "execute_result"
    }
   ],
   "source": [
    "buildings_class_DE = {}\n",
    "for key in buildings_class:\n",
    "    buildings_class_DE[codes.loc[key]['CODTXTLD']] = buildings_class[key]\n",
    "buildings_class_DE"
   ]
  },
  {
   "cell_type": "markdown",
   "metadata": {},
   "source": [
    "Translated this means:\n",
    "    \n",
    "'Building with one apartment': 1275,\n",
    "\n",
    "'Buildings with two dwellings': 104,\n",
    "\n",
    "'Buildings with three or more dwellings': 735,\n",
    "\n",
    "'Residential buildings for communities': 12,\n",
    "\n",
    "'Hotel buildings': 4,\n",
    "\n",
    "'Office buildings': 26,\n",
    "\n",
    "'Wholesale and retail buildings': 15,\n",
    "\n",
    "'Garage buildings': 3,\n",
    "\n",
    "'Industrial buildings': 22,\n",
    "\n",
    "'Tanks, silos and storage buildings': 3,\n",
    "\n",
    "'Buildings for cultural and leisure purposes': 6,\n",
    "\n",
    "'School and university buildings, research facilities': 26,\n",
    "\n",
    "'Hospitals and specialized healthcare facilities': 5,\n",
    "\n",
    "'Sports halls': 4,\n",
    "\n",
    "'Agricultural buildings': 1,\n",
    "\n",
    "'Churches and other religious buildings': 2,\n",
    "\n",
    "'Other buildings, not elsewhere specified': 11"
   ]
  },
  {
   "cell_type": "markdown",
   "metadata": {},
   "source": [
    "**To be precise with our analysis, we will focus on:**\n",
    "\n",
    "\n",
    "Buildings of **status** 'Existing buildings': **1004**\n",
    "\n",
    "Buildings of **category** 'Buildings with exclusively residential use': **1020**\n",
    "\n",
    "Buildings of **class** 'Building with one apartment':**1110**, 'Buildings with two dwellings':**1121** and 'Buildings with three or more dwellings':**1122**."
   ]
  },
  {
   "cell_type": "code",
   "execution_count": 58,
   "metadata": {},
   "outputs": [
    {
     "data": {
      "text/plain": [
       "(1998, 15)"
      ]
     },
     "execution_count": 58,
     "metadata": {},
     "output_type": "execute_result"
    }
   ],
   "source": [
    "buildings_filtered = buildings[((buildings['status'] == 1004) & \\\n",
    "                                (buildings['category'] == 1020) & \\\n",
    "                               ((buildings['class'] == 1110) | \\\n",
    "                                (buildings['class'] == 1121) | \\\n",
    "                                (buildings['class'] == 1122)))]\n",
    "buildings_filtered.shape"
   ]
  },
  {
   "cell_type": "markdown",
   "metadata": {},
   "source": [
    "#### Inspect buiding geometry\n"
   ]
  },
  {
   "cell_type": "code",
   "execution_count": 59,
   "metadata": {},
   "outputs": [
    {
     "data": {
      "text/html": [
       "<div>\n",
       "<style scoped>\n",
       "    .dataframe tbody tr th:only-of-type {\n",
       "        vertical-align: middle;\n",
       "    }\n",
       "\n",
       "    .dataframe tbody tr th {\n",
       "        vertical-align: top;\n",
       "    }\n",
       "\n",
       "    .dataframe thead th {\n",
       "        text-align: right;\n",
       "    }\n",
       "</style>\n",
       "<table border=\"1\" class=\"dataframe\">\n",
       "  <thead>\n",
       "    <tr style=\"text-align: right;\">\n",
       "      <th></th>\n",
       "      <th>GWR_EGID</th>\n",
       "      <th>BEDARF_WARMWASSER</th>\n",
       "      <th>BEDARF_HEIZUNG</th>\n",
       "      <th>geometry</th>\n",
       "    </tr>\n",
       "  </thead>\n",
       "  <tbody>\n",
       "    <tr>\n",
       "      <th>0</th>\n",
       "      <td>190174432</td>\n",
       "      <td>4320</td>\n",
       "      <td>7897</td>\n",
       "      <td>MULTILINESTRING ((2582844.207 1117600.781, 258...</td>\n",
       "    </tr>\n",
       "    <tr>\n",
       "      <th>1</th>\n",
       "      <td>190174432</td>\n",
       "      <td>4320</td>\n",
       "      <td>7897</td>\n",
       "      <td>MULTILINESTRING ((2582838.336 1117607.227, 258...</td>\n",
       "    </tr>\n",
       "    <tr>\n",
       "      <th>2</th>\n",
       "      <td>190174432</td>\n",
       "      <td>4320</td>\n",
       "      <td>7897</td>\n",
       "      <td>MULTILINESTRING ((2582842.786 1117611.283, 258...</td>\n",
       "    </tr>\n",
       "    <tr>\n",
       "      <th>3</th>\n",
       "      <td>190174432</td>\n",
       "      <td>4320</td>\n",
       "      <td>7897</td>\n",
       "      <td>MULTILINESTRING ((2582841.299 1117612.914, 258...</td>\n",
       "    </tr>\n",
       "    <tr>\n",
       "      <th>4</th>\n",
       "      <td>190174432</td>\n",
       "      <td>4320</td>\n",
       "      <td>7897</td>\n",
       "      <td>MULTILINESTRING ((2582845.263 1117616.526, 258...</td>\n",
       "    </tr>\n",
       "  </tbody>\n",
       "</table>\n",
       "</div>"
      ],
      "text/plain": [
       "    GWR_EGID  BEDARF_WARMWASSER  BEDARF_HEIZUNG  \\\n",
       "0  190174432               4320            7897   \n",
       "1  190174432               4320            7897   \n",
       "2  190174432               4320            7897   \n",
       "3  190174432               4320            7897   \n",
       "4  190174432               4320            7897   \n",
       "\n",
       "                                            geometry  \n",
       "0  MULTILINESTRING ((2582844.207 1117600.781, 258...  \n",
       "1  MULTILINESTRING ((2582838.336 1117607.227, 258...  \n",
       "2  MULTILINESTRING ((2582842.786 1117611.283, 258...  \n",
       "3  MULTILINESTRING ((2582841.299 1117612.914, 258...  \n",
       "4  MULTILINESTRING ((2582845.263 1117616.526, 258...  "
      ]
     },
     "execution_count": 59,
     "metadata": {},
     "output_type": "execute_result"
    }
   ],
   "source": [
    "gdf = gpd.read_file('./datasets/building_geometries.gpkg')\n",
    "gdf.head()"
   ]
  },
  {
   "cell_type": "markdown",
   "metadata": {},
   "source": [
    "We can see that rows with the same GWR_EGID belong to one single building."
   ]
  },
  {
   "cell_type": "code",
   "execution_count": 60,
   "metadata": {},
   "outputs": [
    {
     "data": {
      "text/plain": [
       "[582412,\n",
       " 582607,\n",
       " 582948,\n",
       " 583363,\n",
       " 586353,\n",
       " 607677,\n",
       " 610125,\n",
       " 615010,\n",
       " 627407,\n",
       " 627571]"
      ]
     },
     "execution_count": 60,
     "metadata": {},
     "output_type": "execute_result"
    }
   ],
   "source": [
    "list(gdf.groupby('GWR_EGID').groups.keys())[101:111]"
   ]
  },
  {
   "cell_type": "code",
   "execution_count": 61,
   "metadata": {
    "scrolled": false
   },
   "outputs": [
    {
     "data": {
      "text/html": [
       "<div>\n",
       "<style scoped>\n",
       "    .dataframe tbody tr th:only-of-type {\n",
       "        vertical-align: middle;\n",
       "    }\n",
       "\n",
       "    .dataframe tbody tr th {\n",
       "        vertical-align: top;\n",
       "    }\n",
       "\n",
       "    .dataframe thead th {\n",
       "        text-align: right;\n",
       "    }\n",
       "</style>\n",
       "<table border=\"1\" class=\"dataframe\">\n",
       "  <thead>\n",
       "    <tr style=\"text-align: right;\">\n",
       "      <th></th>\n",
       "      <th>GWR_EGID</th>\n",
       "      <th>BEDARF_WARMWASSER</th>\n",
       "      <th>BEDARF_HEIZUNG</th>\n",
       "      <th>geometry</th>\n",
       "    </tr>\n",
       "  </thead>\n",
       "  <tbody>\n",
       "    <tr>\n",
       "      <th>575</th>\n",
       "      <td>607677</td>\n",
       "      <td>5174</td>\n",
       "      <td>77033</td>\n",
       "      <td>MULTILINESTRING ((2630575.531 1269332.087, 263...</td>\n",
       "    </tr>\n",
       "    <tr>\n",
       "      <th>576</th>\n",
       "      <td>607677</td>\n",
       "      <td>5174</td>\n",
       "      <td>77033</td>\n",
       "      <td>MULTILINESTRING ((2630550.093 1269316.358, 263...</td>\n",
       "    </tr>\n",
       "    <tr>\n",
       "      <th>577</th>\n",
       "      <td>607677</td>\n",
       "      <td>5174</td>\n",
       "      <td>77033</td>\n",
       "      <td>MULTILINESTRING ((2630542.804 1269328.146, 263...</td>\n",
       "    </tr>\n",
       "    <tr>\n",
       "      <th>578</th>\n",
       "      <td>607677</td>\n",
       "      <td>5174</td>\n",
       "      <td>77033</td>\n",
       "      <td>MULTILINESTRING ((2630578.972 1269350.511, 263...</td>\n",
       "    </tr>\n",
       "    <tr>\n",
       "      <th>579</th>\n",
       "      <td>607677</td>\n",
       "      <td>1059</td>\n",
       "      <td>15737</td>\n",
       "      <td>MULTILINESTRING ((2630568.154 1269343.821, 263...</td>\n",
       "    </tr>\n",
       "    <tr>\n",
       "      <th>580</th>\n",
       "      <td>607677</td>\n",
       "      <td>1059</td>\n",
       "      <td>15737</td>\n",
       "      <td>MULTILINESTRING ((2630560.214 1269356.664, 263...</td>\n",
       "    </tr>\n",
       "    <tr>\n",
       "      <th>581</th>\n",
       "      <td>607677</td>\n",
       "      <td>1059</td>\n",
       "      <td>15737</td>\n",
       "      <td>MULTILINESTRING ((2630571.030 1269363.354, 263...</td>\n",
       "    </tr>\n",
       "    <tr>\n",
       "      <th>582</th>\n",
       "      <td>607677</td>\n",
       "      <td>1267</td>\n",
       "      <td>18845</td>\n",
       "      <td>MULTILINESTRING ((2630586.261 1269338.721, 263...</td>\n",
       "    </tr>\n",
       "    <tr>\n",
       "      <th>583</th>\n",
       "      <td>607677</td>\n",
       "      <td>1267</td>\n",
       "      <td>18845</td>\n",
       "      <td>MULTILINESTRING ((2630591.169 1269330.785, 263...</td>\n",
       "    </tr>\n",
       "    <tr>\n",
       "      <th>584</th>\n",
       "      <td>607677</td>\n",
       "      <td>1267</td>\n",
       "      <td>18845</td>\n",
       "      <td>MULTILINESTRING ((2630580.439 1269324.150, 263...</td>\n",
       "    </tr>\n",
       "  </tbody>\n",
       "</table>\n",
       "</div>"
      ],
      "text/plain": [
       "     GWR_EGID  BEDARF_WARMWASSER  BEDARF_HEIZUNG  \\\n",
       "575    607677               5174           77033   \n",
       "576    607677               5174           77033   \n",
       "577    607677               5174           77033   \n",
       "578    607677               5174           77033   \n",
       "579    607677               1059           15737   \n",
       "580    607677               1059           15737   \n",
       "581    607677               1059           15737   \n",
       "582    607677               1267           18845   \n",
       "583    607677               1267           18845   \n",
       "584    607677               1267           18845   \n",
       "\n",
       "                                              geometry  \n",
       "575  MULTILINESTRING ((2630575.531 1269332.087, 263...  \n",
       "576  MULTILINESTRING ((2630550.093 1269316.358, 263...  \n",
       "577  MULTILINESTRING ((2630542.804 1269328.146, 263...  \n",
       "578  MULTILINESTRING ((2630578.972 1269350.511, 263...  \n",
       "579  MULTILINESTRING ((2630568.154 1269343.821, 263...  \n",
       "580  MULTILINESTRING ((2630560.214 1269356.664, 263...  \n",
       "581  MULTILINESTRING ((2630571.030 1269363.354, 263...  \n",
       "582  MULTILINESTRING ((2630586.261 1269338.721, 263...  \n",
       "583  MULTILINESTRING ((2630591.169 1269330.785, 263...  \n",
       "584  MULTILINESTRING ((2630580.439 1269324.150, 263...  "
      ]
     },
     "execution_count": 61,
     "metadata": {},
     "output_type": "execute_result"
    }
   ],
   "source": [
    "sample_building = gdf.iloc[gdf.groupby('GWR_EGID').groups[607677]]\n",
    "sample_building"
   ]
  },
  {
   "cell_type": "markdown",
   "metadata": {},
   "source": [
    "Also, building footprint geometry is stored in a class called MultiLineString from the shapely library."
   ]
  },
  {
   "cell_type": "code",
   "execution_count": 62,
   "metadata": {},
   "outputs": [
    {
     "data": {
      "text/plain": [
       "shapely.geometry.multilinestring.MultiLineString"
      ]
     },
     "execution_count": 62,
     "metadata": {},
     "output_type": "execute_result"
    }
   ],
   "source": [
    "type(sample_building.geometry.iloc[0])"
   ]
  },
  {
   "cell_type": "markdown",
   "metadata": {},
   "source": [
    "By calling the plot() method on the geometry property of the dataframe, we can see all the line segments."
   ]
  },
  {
   "cell_type": "code",
   "execution_count": 63,
   "metadata": {},
   "outputs": [
    {
     "data": {
      "text/plain": [
       "<Axes: >"
      ]
     },
     "execution_count": 63,
     "metadata": {},
     "output_type": "execute_result"
    },
    {
     "data": {
      "image/png": "[encoded data removed]",
      "text/plain": [
       "<Figure size 640x480 with 1 Axes>"
      ]
     },
     "metadata": {},
     "output_type": "display_data"
    }
   ],
   "source": [
    "sample_building.geometry.plot()"
   ]
  },
  {
   "cell_type": "markdown",
   "metadata": {},
   "source": [
    "To find the area of these shapes, we cannot simply call the area property of the entire table - it returns the area of each individual element, which in this case is a line, and hance it has an area equal to 0."
   ]
  },
  {
   "cell_type": "code",
   "execution_count": 64,
   "metadata": {},
   "outputs": [
    {
     "data": {
      "text/plain": [
       "575    0.0\n",
       "576    0.0\n",
       "577    0.0\n",
       "578    0.0\n",
       "579    0.0\n",
       "580    0.0\n",
       "581    0.0\n",
       "582    0.0\n",
       "583    0.0\n",
       "584    0.0\n",
       "dtype: float64"
      ]
     },
     "execution_count": 64,
     "metadata": {},
     "output_type": "execute_result"
    }
   ],
   "source": [
    "sample_building.geometry.area"
   ]
  },
  {
   "cell_type": "code",
   "execution_count": 65,
   "metadata": {
    "collapsed": true
   },
   "outputs": [],
   "source": [
    "merged_line = ops.linemerge([multy.geoms[0] for multy in sample_building.geometry.values])"
   ]
  },
  {
   "cell_type": "markdown",
   "metadata": {},
   "source": [
    "What's more, even if we merge the lines, they are not ordered, and no closed shape can be constructed, so no area can be calculated."
   ]
  },
  {
   "cell_type": "code",
   "execution_count": 66,
   "metadata": {},
   "outputs": [
    {
     "data": {
      "image/svg+xml": [
       "<svg xmlns=\"http://www.w3.org/2000/svg\" xmlns:xlink=\"http://www.w3.org/1999/xlink\" width=\"100.0\" height=\"100.0\" viewBox=\"2630540.8694000016 1269314.423399999 52.23419999796897 50.86519999941811\" preserveAspectRatio=\"xMinYMin meet\"><g transform=\"matrix(1,0,0,-1,0,2538679.7119999975)\"><polyline fill=\"none\" stroke=\"#66cc99\" stroke-width=\"1.0446839999593793\" points=\"2630542.8040000014,1269328.1460000016 2630568.153999999,1269343.8209999986 2630560.2140000015,1269356.6640000008 2630571.030000001,1269363.3539999984 2630578.971999999,1269350.511 2630586.261,1269338.7210000008 2630591.1689999998,1269330.7850000001 2630580.4389999993,1269324.1499999985 2630575.5309999995,1269332.0870000012 2630550.0929999985,1269316.357999999 2630542.8040000014,1269328.1460000016\" opacity=\"0.8\" /></g></svg>"
      ],
      "text/plain": [
       "<LINESTRING (2630542.804 1269328.146, 2630568.154 1269343.821, 2630560.214 1...>"
      ]
     },
     "execution_count": 66,
     "metadata": {},
     "output_type": "execute_result"
    }
   ],
   "source": [
    "merged_line"
   ]
  },
  {
   "cell_type": "code",
   "execution_count": 67,
   "metadata": {},
   "outputs": [
    {
     "data": {
      "text/plain": [
       "0.0"
      ]
     },
     "execution_count": 67,
     "metadata": {},
     "output_type": "execute_result"
    }
   ],
   "source": [
    "merged_line.area"
   ]
  },
  {
   "cell_type": "markdown",
   "metadata": {},
   "source": [
    "Since we know that each multiline string is a linear segment, we can get its start and end points as follows"
   ]
  },
  {
   "cell_type": "code",
   "execution_count": 68,
   "metadata": {},
   "outputs": [
    {
     "data": {
      "text/plain": [
       "[[(2630575.5309999995, 1269332.0870000012),\n",
       "  (2630550.0929999985, 1269316.357999999)],\n",
       " [(2630550.0929999985, 1269316.357999999),\n",
       "  (2630542.8040000014, 1269328.1460000016)],\n",
       " [(2630542.8040000014, 1269328.1460000016),\n",
       "  (2630568.153999999, 1269343.8209999986)],\n",
       " [(2630578.971999999, 1269350.511), (2630586.261, 1269338.7210000008)],\n",
       " [(2630568.153999999, 1269343.8209999986),\n",
       "  (2630560.2140000015, 1269356.6640000008)],\n",
       " [(2630560.2140000015, 1269356.6640000008),\n",
       "  (2630571.030000001, 1269363.3539999984)],\n",
       " [(2630571.030000001, 1269363.3539999984), (2630578.971999999, 1269350.511)],\n",
       " [(2630586.261, 1269338.7210000008), (2630591.1689999998, 1269330.7850000001)],\n",
       " [(2630591.1689999998, 1269330.7850000001),\n",
       "  (2630580.4389999993, 1269324.1499999985)],\n",
       " [(2630580.4389999993, 1269324.1499999985),\n",
       "  (2630575.5309999995, 1269332.0870000012)]]"
      ]
     },
     "execution_count": 68,
     "metadata": {},
     "output_type": "execute_result"
    }
   ],
   "source": [
    "[[multy.geoms[0].coords[0], multy.geoms[-1].coords[1]] for multy in sample_building.geometry.values]"
   ]
  },
  {
   "cell_type": "markdown",
   "metadata": {},
   "source": [
    "Now we need to sort the pairs of points in order to get the polygons area. One way to do this is to use a dictionary with tupples as keys."
   ]
  },
  {
   "cell_type": "code",
   "execution_count": 69,
   "metadata": {},
   "outputs": [
    {
     "data": {
      "text/plain": [
       "{(2630575.5309999995, 1269332.0870000012): (2630550.0929999985,\n",
       "  1269316.357999999),\n",
       " (2630550.0929999985, 1269316.357999999): (2630542.8040000014,\n",
       "  1269328.1460000016),\n",
       " (2630542.8040000014, 1269328.1460000016): (2630568.153999999,\n",
       "  1269343.8209999986),\n",
       " (2630578.971999999, 1269350.511): (2630586.261, 1269338.7210000008),\n",
       " (2630568.153999999, 1269343.8209999986): (2630560.2140000015,\n",
       "  1269356.6640000008),\n",
       " (2630560.2140000015, 1269356.6640000008): (2630571.030000001,\n",
       "  1269363.3539999984),\n",
       " (2630571.030000001, 1269363.3539999984): (2630578.971999999, 1269350.511),\n",
       " (2630586.261, 1269338.7210000008): (2630591.1689999998, 1269330.7850000001),\n",
       " (2630591.1689999998, 1269330.7850000001): (2630580.4389999993,\n",
       "  1269324.1499999985),\n",
       " (2630580.4389999993, 1269324.1499999985): (2630575.5309999995,\n",
       "  1269332.0870000012)}"
      ]
     },
     "execution_count": 69,
     "metadata": {},
     "output_type": "execute_result"
    }
   ],
   "source": [
    "segments = {}\n",
    "for multy in sample_building.geometry.values:\n",
    "    start = multy.geoms[0].coords[0]\n",
    "    end = multy.geoms[0].coords[-1]\n",
    "    if start in segments.keys():\n",
    "        continue\n",
    "    segments[start] = end\n",
    "segments"
   ]
  },
  {
   "cell_type": "code",
   "execution_count": 70,
   "metadata": {
    "collapsed": true
   },
   "outputs": [],
   "source": [
    "remaining_points = list(segments.keys())\n",
    "polygons = []\n",
    "found_points = []\n",
    "joined_polygons = None\n",
    "\n",
    "while len(remaining_points) > 1:\n",
    "    sorted_points = []\n",
    "    start = remaining_points[0]\n",
    "    end = ''\n",
    "    while end != remaining_points[0] and start not in sorted_points:\n",
    "        if start not in segments.keys():\n",
    "            break\n",
    "        end = segments[start]\n",
    "        sorted_points.append(start)\n",
    "        start = segments[start]\n",
    "    sorted_points.append(start)\n",
    "    found_points += sorted_points\n",
    "    remaining_points = list(\n",
    "        set(list(segments.keys())).difference(set(found_points)))\n",
    "    if (len(sorted_points) < 3):\n",
    "        continue\n",
    "    sample_building_footprint = Polygon(sorted_points)\n",
    "    \n",
    "    if joined_polygons is None:\n",
    "        joined_polygons = sample_building_footprint\n",
    "    polygons.append(sample_building_footprint)\n",
    "    joined_polygons = joined_polygons.union(sample_building_footprint)"
   ]
  },
  {
   "cell_type": "code",
   "execution_count": 71,
   "metadata": {},
   "outputs": [
    {
     "data": {
      "image/svg+xml": [
       "<svg xmlns=\"http://www.w3.org/2000/svg\" xmlns:xlink=\"http://www.w3.org/1999/xlink\" width=\"100.0\" height=\"100.0\" viewBox=\"2630540.8694000016 1269314.423399999 52.23419999796897 50.86519999941811\" preserveAspectRatio=\"xMinYMin meet\"><g transform=\"matrix(1,0,0,-1,0,2538679.7119999975)\"><path fill-rule=\"evenodd\" fill=\"#66cc99\" stroke=\"#555555\" stroke-width=\"1.0446839999593793\" opacity=\"0.6\" d=\"M 2630550.0929999985,1269316.357999999 L 2630542.8040000014,1269328.1460000016 L 2630568.153999999,1269343.8209999986 L 2630560.2140000015,1269356.6640000008 L 2630571.030000001,1269363.3539999984 L 2630578.971999999,1269350.511 L 2630586.261,1269338.7210000008 L 2630591.1689999998,1269330.7850000001 L 2630580.4389999993,1269324.1499999985 L 2630575.5309999995,1269332.0870000012 L 2630550.0929999985,1269316.357999999 z\" /></g></svg>"
      ],
      "text/plain": [
       "<POLYGON ((2630550.093 1269316.358, 2630542.804 1269328.146, 2630568.154 126...>"
      ]
     },
     "execution_count": 71,
     "metadata": {},
     "output_type": "execute_result"
    }
   ],
   "source": [
    "joined_polygons"
   ]
  },
  {
   "cell_type": "code",
   "execution_count": 72,
   "metadata": {},
   "outputs": [
    {
     "data": {
      "text/plain": [
       "899.1466259645487"
      ]
     },
     "execution_count": 72,
     "metadata": {},
     "output_type": "execute_result"
    }
   ],
   "source": [
    "joined_polygons.area"
   ]
  },
  {
   "cell_type": "code",
   "execution_count": 73,
   "metadata": {},
   "outputs": [
    {
     "data": {
      "text/plain": [
       "(899.1466259645485, 161.62959488774484)"
      ]
     },
     "execution_count": 73,
     "metadata": {},
     "output_type": "execute_result"
    }
   ],
   "source": [
    "polygons[0].area, polygons[0].length"
   ]
  },
  {
   "cell_type": "markdown",
   "metadata": {},
   "source": [
    "Now that we have figured out how to extract footprint geometry lines, sort them, join them into separate closed polygons, and calculate their total area and perimeter, we can apply this to the entire dataset."
   ]
  },
  {
   "cell_type": "code",
   "execution_count": 74,
   "metadata": {
    "collapsed": true
   },
   "outputs": [],
   "source": [
    "def calculate_area(group):\n",
    "\n",
    "    segments = {}\n",
    "\n",
    "    segments = {}\n",
    "    for multy in group.geometry.values:\n",
    "        start = multy.geoms[0].coords[0]\n",
    "        end = multy.geoms[0].coords[-1]\n",
    "        if start in segments.keys():\n",
    "            continue\n",
    "        segments[start] = end\n",
    "    segments\n",
    "\n",
    "    remaining_points = list(segments.keys())\n",
    "    found_points = []\n",
    "    joined_polygons = None\n",
    "    \n",
    "    while len(remaining_points) > 1:\n",
    "        sorted_points = []\n",
    "        start = remaining_points[0]\n",
    "        end = ''\n",
    "        while end != remaining_points[0] and start not in sorted_points:\n",
    "            if start not in segments.keys():\n",
    "                break\n",
    "            end = segments[start]\n",
    "            sorted_points.append(start)\n",
    "            start = segments[start]\n",
    "        sorted_points.append(start)\n",
    "\n",
    "        found_points += sorted_points\n",
    "        remaining_points = list(\n",
    "            set(list(segments.keys())).difference(set(found_points)))\n",
    "\n",
    "        if (len(sorted_points) < 3):\n",
    "            continue\n",
    "\n",
    "        sample_building_footprint = Polygon(sorted_points)\n",
    "\n",
    "        if sample_building_footprint.is_valid == False:\n",
    "            continue\n",
    "        if joined_polygons is None:\n",
    "            joined_polygons = sample_building_footprint\n",
    "        polygons.append(sample_building_footprint)\n",
    "        joined_polygons = joined_polygons.union(sample_building_footprint)\n",
    "\n",
    "    row_dict = {}\n",
    "    row_dict['area'] = joined_polygons.length if joined_polygons is not None else 0\n",
    "    row_dict['perimeter'] = joined_polygons.area if joined_polygons is not None else 0\n",
    "    row_dict['polygons'] = joined_polygons\n",
    "\n",
    "\n",
    "    return pd.Series(row_dict)\n",
    "\n",
    "\n",
    "areas = gdf.groupby('GWR_EGID', as_index=False).apply(\n",
    "    calculate_area).rename(columns={'GWR_EGID': 'Id'})"
   ]
  },
  {
   "cell_type": "code",
   "execution_count": 75,
   "metadata": {},
   "outputs": [
    {
     "data": {
      "text/html": [
       "<div>\n",
       "<style scoped>\n",
       "    .dataframe tbody tr th:only-of-type {\n",
       "        vertical-align: middle;\n",
       "    }\n",
       "\n",
       "    .dataframe tbody tr th {\n",
       "        vertical-align: top;\n",
       "    }\n",
       "\n",
       "    .dataframe thead th {\n",
       "        text-align: right;\n",
       "    }\n",
       "</style>\n",
       "<table border=\"1\" class=\"dataframe\">\n",
       "  <thead>\n",
       "    <tr style=\"text-align: right;\">\n",
       "      <th></th>\n",
       "      <th>Id</th>\n",
       "      <th>area</th>\n",
       "      <th>perimeter</th>\n",
       "      <th>polygons</th>\n",
       "    </tr>\n",
       "  </thead>\n",
       "  <tbody>\n",
       "    <tr>\n",
       "      <th>0</th>\n",
       "      <td>8267</td>\n",
       "      <td>50.684752</td>\n",
       "      <td>111.944161</td>\n",
       "      <td>POLYGON ((2688342.4959999993 1280219.614999998...</td>\n",
       "    </tr>\n",
       "    <tr>\n",
       "      <th>1</th>\n",
       "      <td>9089</td>\n",
       "      <td>45.436243</td>\n",
       "      <td>90.748115</td>\n",
       "      <td>POLYGON ((2691008.8159999996 1282772.886, 2691...</td>\n",
       "    </tr>\n",
       "    <tr>\n",
       "      <th>2</th>\n",
       "      <td>9232</td>\n",
       "      <td>51.882385</td>\n",
       "      <td>137.947371</td>\n",
       "      <td>POLYGON ((2691485.789999999 1282327.6719999984...</td>\n",
       "    </tr>\n",
       "    <tr>\n",
       "      <th>3</th>\n",
       "      <td>9696</td>\n",
       "      <td>59.397324</td>\n",
       "      <td>149.386657</td>\n",
       "      <td>POLYGON ((2689478.3139999993 1282186.035000000...</td>\n",
       "    </tr>\n",
       "    <tr>\n",
       "      <th>4</th>\n",
       "      <td>11139</td>\n",
       "      <td>58.814565</td>\n",
       "      <td>160.838809</td>\n",
       "      <td>POLYGON ((2689363.0139999986 1280924.875999998...</td>\n",
       "    </tr>\n",
       "  </tbody>\n",
       "</table>\n",
       "</div>"
      ],
      "text/plain": [
       "      Id       area   perimeter  \\\n",
       "0   8267  50.684752  111.944161   \n",
       "1   9089  45.436243   90.748115   \n",
       "2   9232  51.882385  137.947371   \n",
       "3   9696  59.397324  149.386657   \n",
       "4  11139  58.814565  160.838809   \n",
       "\n",
       "                                            polygons  \n",
       "0  POLYGON ((2688342.4959999993 1280219.614999998...  \n",
       "1  POLYGON ((2691008.8159999996 1282772.886, 2691...  \n",
       "2  POLYGON ((2691485.789999999 1282327.6719999984...  \n",
       "3  POLYGON ((2689478.3139999993 1282186.035000000...  \n",
       "4  POLYGON ((2689363.0139999986 1280924.875999998...  "
      ]
     },
     "execution_count": 75,
     "metadata": {},
     "output_type": "execute_result"
    }
   ],
   "source": [
    "areas.head()"
   ]
  },
  {
   "cell_type": "code",
   "execution_count": 76,
   "metadata": {},
   "outputs": [
    {
     "data": {
      "image/svg+xml": [
       "<svg xmlns=\"http://www.w3.org/2000/svg\" xmlns:xlink=\"http://www.w3.org/1999/xlink\" width=\"100.0\" height=\"100.0\" viewBox=\"2749437.6034400016 1248754.2334400006 21.39911999925971 17.510120000690222\" preserveAspectRatio=\"xMinYMin meet\"><g transform=\"matrix(1,0,0,-1,0,2497525.977000002)\"><path fill-rule=\"evenodd\" fill=\"#66cc99\" stroke=\"#555555\" stroke-width=\"0.4279823999851942\" opacity=\"0.6\" d=\"M 2749439.813000001,1248761.9759999998 L 2749438.3960000016,1248764.7890000008 L 2749445.1160000004,1248768.175999999 L 2749445.6689999998,1248767.079 L 2749453.351,1248770.9510000013 L 2749458.210000001,1248761.3110000007 L 2749453.2710000016,1248758.822999999 L 2749452.620000001,1248760.1149999984 L 2749449.1959999986,1248758.3889999986 L 2749449.421,1248757.9439999983 L 2749443.6339999996,1248755.0260000005 L 2749440.0670000017,1248762.1039999984 L 2749439.813000001,1248761.9759999998 z\" /></g></svg>"
      ],
      "text/plain": [
       "<POLYGON ((2749439.813 1248761.976, 2749438.396 1248764.789, 2749445.116 124...>"
      ]
     },
     "metadata": {},
     "output_type": "display_data"
    },
    {
     "data": {
      "image/svg+xml": [
       "<svg xmlns=\"http://www.w3.org/2000/svg\" xmlns:xlink=\"http://www.w3.org/1999/xlink\" width=\"100.0\" height=\"100.0\" viewBox=\"2649445.044999999 1248081.0429999987 20.115000000223517 17.12800000049174\" preserveAspectRatio=\"xMinYMin meet\"><g transform=\"matrix(1,0,0,-1,0,2496179.213999998)\"><path fill-rule=\"evenodd\" fill=\"#66cc99\" stroke=\"#555555\" stroke-width=\"0.40230000000447036\" opacity=\"0.6\" d=\"M 2649453.7639999986,1248093.5289999992 L 2649458.4389999993,1248096.9640000015 L 2649464.414999999,1248088.8299999982 L 2649454.8310000002,1248081.7879999988 L 2649450.4809999987,1248087.7080000006 L 2649450.280000001,1248087.5610000007 L 2649445.789999999,1248093.671 L 2649450.9010000005,1248097.425999999 L 2649453.7639999986,1248093.5289999992 z\" /></g></svg>"
      ],
      "text/plain": [
       "<POLYGON ((2649453.764 1248093.529, 2649458.439 1248096.964, 2649464.415 124...>"
      ]
     },
     "metadata": {},
     "output_type": "display_data"
    },
    {
     "data": {
      "image/svg+xml": [
       "<svg xmlns=\"http://www.w3.org/2000/svg\" xmlns:xlink=\"http://www.w3.org/1999/xlink\" width=\"100.0\" height=\"100.0\" viewBox=\"2598590.3241999997 1196690.4561999992 54.12960000149906 38.18260000040755\" preserveAspectRatio=\"xMinYMin meet\"><g transform=\"matrix(1,0,0,-1,0,2393419.094999999)\"><path fill-rule=\"evenodd\" fill=\"#66cc99\" stroke=\"#555555\" stroke-width=\"1.0825920000299811\" opacity=\"0.6\" d=\"M 2598604.4629999995,1196706.368999999 L 2598592.329,1196715.664999999 L 2598600.732999999,1196726.6339999996 L 2598613.068,1196717.1950000003 L 2598613.8110000007,1196716.614 L 2598615.4409999996,1196719.4299999997 L 2598629.7250000015,1196708.4860000014 L 2598631.732999999,1196711.107999999 L 2598642.449000001,1196702.8979999982 L 2598634.454,1196692.4609999992 L 2598623.3429999985,1196700.9750000015 L 2598621.1510000005,1196698.1160000004 L 2598606.6510000005,1196709.2250000015 L 2598604.4629999995,1196706.368999999 z\" /></g></svg>"
      ],
      "text/plain": [
       "<POLYGON ((2598604.463 1196706.369, 2598592.329 1196715.665, 2598600.733 119...>"
      ]
     },
     "metadata": {},
     "output_type": "display_data"
    },
    {
     "data": {
      "image/svg+xml": [
       "<svg xmlns=\"http://www.w3.org/2000/svg\" xmlns:xlink=\"http://www.w3.org/1999/xlink\" width=\"100.0\" height=\"100.0\" viewBox=\"2592638.917879999 1220800.3658799983 11.53823999967426 11.937240003142506\" preserveAspectRatio=\"xMinYMin meet\"><g transform=\"matrix(1,0,0,-1,0,2441612.6689999998)\"><path fill-rule=\"evenodd\" fill=\"#66cc99\" stroke=\"#555555\" stroke-width=\"0.23874480006285012\" opacity=\"0.6\" d=\"M 2592644.756000001,1220800.8079999983 L 2592643.7380000018,1220802.129999999 L 2592639.3599999994,1220807.8099999987 L 2592644.620000001,1220811.8610000014 L 2592648.993999999,1220806.182 L 2592650.0139999986,1220804.859000001 L 2592644.756000001,1220800.8079999983 z\" /></g></svg>"
      ],
      "text/plain": [
       "<POLYGON ((2592644.756 1220800.808, 2592643.738 1220802.13, 2592639.36 12208...>"
      ]
     },
     "metadata": {},
     "output_type": "display_data"
    },
    {
     "data": {
      "image/svg+xml": [
       "<svg xmlns=\"http://www.w3.org/2000/svg\" xmlns:xlink=\"http://www.w3.org/1999/xlink\" width=\"100.0\" height=\"100.0\" viewBox=\"2614258.9168800013 1175659.8418799983 24.722239999100566 27.030240001156926\" preserveAspectRatio=\"xMinYMin meet\"><g transform=\"matrix(1,0,0,-1,0,2351346.713999998)\"><path fill-rule=\"evenodd\" fill=\"#66cc99\" stroke=\"#555555\" stroke-width=\"0.5406048000231385\" opacity=\"0.6\" d=\"M 2614264.6319999993,1175677.9569999985 L 2614269.3649999984,1175685.6609999985 L 2614271.506000001,1175684.3460000008 L 2614271.647999998,1175684.579 L 2614273.2289999984,1175683.620000001 L 2614274.594999999,1175685.8709999993 L 2614282.6380000003,1175680.9899999984 L 2614281.2710000016,1175678.739 L 2614282.3790000007,1175678.0659999996 L 2614271.925999999,1175660.8429999985 L 2614259.9180000015,1175668.131000001 L 2614262.4580000006,1175672.318 L 2614263.7349999994,1175671.5410000011 L 2614266.8150000013,1175676.6160000004 L 2614264.6319999993,1175677.9569999985 z\" /></g></svg>"
      ],
      "text/plain": [
       "<POLYGON ((2614264.632 1175677.957, 2614269.365 1175685.661, 2614271.506 117...>"
      ]
     },
     "metadata": {},
     "output_type": "display_data"
    },
    {
     "data": {
      "image/svg+xml": [
       "<svg xmlns=\"http://www.w3.org/2000/svg\" xmlns:xlink=\"http://www.w3.org/1999/xlink\" width=\"100.0\" height=\"100.0\" viewBox=\"2750926.31412 1253260.2371200009 12.860759999603033 17.978759999852628\" preserveAspectRatio=\"xMinYMin meet\"><g transform=\"matrix(1,0,0,-1,0,2506538.4530000016)\"><path fill-rule=\"evenodd\" fill=\"#66cc99\" stroke=\"#555555\" stroke-width=\"0.35957519999705256\" opacity=\"0.6\" d=\"M 2750929.976,1253270.8209999986 L 2750930.653999999,1253270.796 L 2750930.666000001,1253271.0329999998 L 2750932.9499999993,1253270.9499999993 L 2750933.25,1253277.5500000007 L 2750938.5089999996,1253277.2580000013 L 2750938.0599999987,1253263.6110000014 L 2750937.9450000003,1253263.6149999984 L 2750937.8440000005,1253260.9030000009 L 2750926.9800000004,1253261.3060000017 L 2750927.291000001,1253269.6590000018 L 2750929.9290000014,1253269.5610000007 L 2750929.976,1253270.8209999986 z\" /></g></svg>"
      ],
      "text/plain": [
       "<POLYGON ((2750929.976 1253270.821, 2750930.654 1253270.796, 2750930.666 125...>"
      ]
     },
     "metadata": {},
     "output_type": "display_data"
    },
    {
     "data": {
      "image/svg+xml": [
       "<svg xmlns=\"http://www.w3.org/2000/svg\" xmlns:xlink=\"http://www.w3.org/1999/xlink\" width=\"100.0\" height=\"100.0\" viewBox=\"2605641.8243599995 1184235.7903600014 24.58727999869734 21.875279997475445\" preserveAspectRatio=\"xMinYMin meet\"><g transform=\"matrix(1,0,0,-1,0,2368493.4560000002)\"><path fill-rule=\"evenodd\" fill=\"#66cc99\" stroke=\"#555555\" stroke-width=\"0.4917455999739468\" opacity=\"0.6\" d=\"M 2605642.7349999994,1184247.5 L 2605654.5100000016,1184253.3110000007 L 2605654.2459999993,1184253.8310000002 L 2605660.1730000004,1184256.754999999 L 2605665.5009999983,1184245.9560000002 L 2605659.274,1184242.8839999996 L 2605659.537999999,1184242.3630000018 L 2605648.063000001,1184236.7010000013 L 2605642.7349999994,1184247.5 z\" /></g></svg>"
      ],
      "text/plain": [
       "<POLYGON ((2605642.735 1184247.5, 2605654.51 1184253.311, 2605654.246 118425...>"
      ]
     },
     "metadata": {},
     "output_type": "display_data"
    }
   ],
   "source": [
    "# one polygon building footprint\n",
    "display(areas.iloc[47].polygons)\n",
    "display(areas.iloc[79].polygons)\n",
    "display(areas.iloc[152].polygons)\n",
    "display(areas.iloc[164].polygons)\n",
    "display(areas.iloc[239].polygons)\n",
    "display(areas.iloc[52].polygons)\n",
    "display(areas.iloc[355].polygons)"
   ]
  },
  {
   "cell_type": "code",
   "execution_count": 77,
   "metadata": {},
   "outputs": [
    {
     "data": {
      "image/svg+xml": [
       "<svg xmlns=\"http://www.w3.org/2000/svg\" xmlns:xlink=\"http://www.w3.org/1999/xlink\" width=\"118.097999997437\" height=\"100.0\" viewBox=\"2611627.222000001 1268831.0919999983 118.097999997437 61.63500000163913\" preserveAspectRatio=\"xMinYMin meet\"><g transform=\"matrix(1,0,0,-1,0,2537723.8189999983)\"><g><path fill-rule=\"evenodd\" fill=\"#66cc99\" stroke=\"#555555\" stroke-width=\"2.0\" opacity=\"0.6\" d=\"M 2611740.91,1268870.960000001 L 2611740.9459999986,1268853.7509999983 L 2611739.1909999996,1268853.7479999997 L 2611739.1939999983,1268853.125 L 2611723.4679999985,1268853.0909999982 L 2611723.5040000007,1268835.6559999995 L 2611631.596000001,1268835.4659999982 L 2611729.2399999984,1268875.5419999994 L 2611729.1889999993,1268872.1229999997 L 2611723.9310000017,1268872.2014999986 L 2611723.9340000004,1268870.925999999 L 2611740.91,1268870.960000001 z\" /><path fill-rule=\"evenodd\" fill=\"#66cc99\" stroke=\"#555555\" stroke-width=\"2.0\" opacity=\"0.6\" d=\"M 2611739.9349999987,1268887.1279999986 L 2611739.774,1268876.3999999985 L 2611658.2870000005,1268888.3530000001 L 2611739.9349999987,1268887.1279999986 z\" /></g></g></svg>"
      ],
      "text/plain": [
       "<MULTIPOLYGON (((2611740.91 1268870.96, 2611740.946 1268853.751, 2611739.191...>"
      ]
     },
     "metadata": {},
     "output_type": "display_data"
    },
    {
     "data": {
      "image/svg+xml": [
       "<svg xmlns=\"http://www.w3.org/2000/svg\" xmlns:xlink=\"http://www.w3.org/1999/xlink\" width=\"100.0\" height=\"100.0\" viewBox=\"2647142.8048 1248496.9008000009 22.145399998873472 14.825399998575449\" preserveAspectRatio=\"xMinYMin meet\"><g transform=\"matrix(1,0,0,-1,0,2497008.6270000003)\"><path fill-rule=\"evenodd\" fill=\"#66cc99\" stroke=\"#555555\" stroke-width=\"0.44290799997746944\" opacity=\"0.6\" d=\"M 2647155.7600000016,1248497.7210000008 L 2647149.7129999995,1248502.4910000004 L 2647147.5500000007,1248499.7490000017 L 2647143.625,1248502.8440000005 L 2647146.912999999,1248506.9789999984 L 2647150.2820000015,1248504.3209999986 L 2647155.476,1248510.9059999995 L 2647162.063000001,1248505.710000001 L 2647161.346999999,1248504.8029999994 L 2647164.129999999,1248502.607999999 L 2647161.2060000002,1248498.8999999985 L 2647158.4219999984,1248501.0960000008 L 2647155.7600000016,1248497.7210000008 z\" /></g></svg>"
      ],
      "text/plain": [
       "<POLYGON ((2647155.76 1248497.721, 2647149.713 1248502.491, 2647147.55 12484...>"
      ]
     },
     "metadata": {},
     "output_type": "display_data"
    },
    {
     "data": {
      "image/svg+xml": [
       "<svg xmlns=\"http://www.w3.org/2000/svg\" xmlns:xlink=\"http://www.w3.org/1999/xlink\" width=\"100.0\" height=\"100.0\" viewBox=\"2644667.7057599993 1261437.4067600006 37.914479998871684 33.280479999259114\" preserveAspectRatio=\"xMinYMin meet\"><g transform=\"matrix(1,0,0,-1,0,2522908.0940000005)\"><g><path fill-rule=\"evenodd\" fill=\"#66cc99\" stroke=\"#555555\" stroke-width=\"0.7582895999774337\" opacity=\"0.6\" d=\"M 2644694.2140000015,1261440.1209999993 L 2644689.659000002,1261442.4710000008 L 2644688.6240000017,1261440.4659999982 L 2644682.9800000004,1261443.3790000007 L 2644688.960000001,1261454.9629999995 L 2644704.215999998,1261447.0879999995 L 2644699.9450000003,1261438.8110000007 L 2644694.8850000016,1261441.4230000004 L 2644694.2140000015,1261440.1209999993 z\" /><path fill-rule=\"evenodd\" fill=\"#66cc99\" stroke=\"#555555\" stroke-width=\"0.7582895999774337\" opacity=\"0.6\" d=\"M 2644679.221000001,1261469.2829999998 L 2644692.704999998,1261462.324000001 L 2644682.594999999,1261442.734000001 L 2644669.1099999994,1261449.6939999983 L 2644679.221000001,1261469.2829999998 z\" /></g></g></svg>"
      ],
      "text/plain": [
       "<MULTIPOLYGON (((2644694.214 1261440.121, 2644689.659 1261442.471, 2644688.6...>"
      ]
     },
     "metadata": {},
     "output_type": "display_data"
    },
    {
     "data": {
      "image/svg+xml": [
       "<svg xmlns=\"http://www.w3.org/2000/svg\" xmlns:xlink=\"http://www.w3.org/1999/xlink\" width=\"100.0\" height=\"100.0\" viewBox=\"2598856.8975199987 1197278.32652 23.394960000179708 17.029959998559207\" preserveAspectRatio=\"xMinYMin meet\"><g transform=\"matrix(1,0,0,-1,0,2394573.6829999983)\"><g><path fill-rule=\"evenodd\" fill=\"#66cc99\" stroke=\"#555555\" stroke-width=\"0.46789920000359414\" opacity=\"0.6\" d=\"M 2598864.149,1197279.193 L 2598857.7639999986,1197286.7630000003 L 2598861.034000002,1197289.5150000006 L 2598861.147999998,1197289.4079999998 L 2598861.272999998,1197289.3299999982 L 2598861.41,1197289.2780000009 L 2598861.5480000004,1197289.254999999 L 2598861.5139999986,1197288.9450000003 L 2598866.335999999,1197293.0150000006 L 2598872.2399999984,1197286.0179999992 L 2598864.149,1197279.193 z\" /><path fill-rule=\"evenodd\" fill=\"#66cc99\" stroke=\"#555555\" stroke-width=\"0.46789920000359414\" opacity=\"0.6\" d=\"M 2598879.425999999,1197288.370000001 L 2598874.4880000018,1197284.204 L 2598869.3249999993,1197290.3249999993 L 2598874.2639999986,1197294.4899999984 L 2598879.425999999,1197288.370000001 z\" /></g></g></svg>"
      ],
      "text/plain": [
       "<MULTIPOLYGON (((2598864.149 1197279.193, 2598857.764 1197286.763, 2598861.0...>"
      ]
     },
     "metadata": {},
     "output_type": "display_data"
    },
    {
     "data": {
      "image/svg+xml": [
       "<svg xmlns=\"http://www.w3.org/2000/svg\" xmlns:xlink=\"http://www.w3.org/1999/xlink\" width=\"100.0\" height=\"100.0\" viewBox=\"2616151.0568799996 1177308.1908799992 19.55123999994248 17.461240000091493\" preserveAspectRatio=\"xMinYMin meet\"><g transform=\"matrix(1,0,0,-1,0,2354633.8429999985)\"><g><path fill-rule=\"evenodd\" fill=\"#66cc99\" stroke=\"#555555\" stroke-width=\"0.39102479999884965\" opacity=\"0.6\" d=\"M 2616151.7809999995,1177319.2129999995 L 2616154.212000001,1177320.4039999992 L 2616153.9279999994,1177320.984000001 L 2616161.976,1177324.9279999994 L 2616165.8110000007,1177317.1000000015 L 2616157.7630000003,1177313.1559999995 L 2616157.659000002,1177313.3680000007 L 2616155.2289999984,1177312.175999999 L 2616151.7809999995,1177319.2129999995 z\" /><path fill-rule=\"evenodd\" fill=\"#66cc99\" stroke=\"#555555\" stroke-width=\"0.39102479999884965\" opacity=\"0.6\" d=\"M 2616162.2520000003,1177314.1050000004 L 2616167.7569999993,1177316.3610000014 L 2616169.8839999996,1177311.171 L 2616164.3790000007,1177308.914999999 L 2616162.2520000003,1177314.1050000004 z\" /></g></g></svg>"
      ],
      "text/plain": [
       "<MULTIPOLYGON (((2616151.781 1177319.213, 2616154.212 1177320.404, 2616153.9...>"
      ]
     },
     "metadata": {},
     "output_type": "display_data"
    },
    {
     "data": {
      "image/svg+xml": [
       "<svg xmlns=\"http://www.w3.org/2000/svg\" xmlns:xlink=\"http://www.w3.org/1999/xlink\" width=\"100.0\" height=\"100.0\" viewBox=\"2752824.2932 1249148.8841999986 24.348599998280406 22.39559999993071\" preserveAspectRatio=\"xMinYMin meet\"><g transform=\"matrix(1,0,0,-1,0,2498320.163999997)\"><g><path fill-rule=\"evenodd\" fill=\"#66cc99\" stroke=\"#555555\" stroke-width=\"0.48697199996560814\" opacity=\"0.6\" d=\"M 2752842.973000001,1249159.6130000018 L 2752843.219999999,1249159.3929999992 L 2752835.164999999,1249149.7859999985 L 2752828.9290000014,1249155.015999999 L 2752839.5430000015,1249167.6750000007 L 2752839.7349999994,1249167.5139999986 L 2752842.1350000016,1249170.3779999986 L 2752847.7399999984,1249165.6779999994 L 2752845.34,1249162.8139999993 L 2752845.607999999,1249162.5890000015 L 2752842.973000001,1249159.6130000018 z\" /><path fill-rule=\"evenodd\" fill=\"#66cc99\" stroke=\"#555555\" stroke-width=\"0.48697199996560814\" opacity=\"0.6\" d=\"M 2752828.5760000013,1249154.9849999994 L 2752825.1950000003,1249157.8200000003 L 2752834.0500000007,1249168.379999999 L 2752837.4310000017,1249165.5439999998 L 2752828.5760000013,1249154.9849999994 z\" /></g></g></svg>"
      ],
      "text/plain": [
       "<MULTIPOLYGON (((2752842.973 1249159.613, 2752843.22 1249159.393, 2752835.16...>"
      ]
     },
     "metadata": {},
     "output_type": "display_data"
    },
    {
     "data": {
      "image/svg+xml": [
       "<svg xmlns=\"http://www.w3.org/2000/svg\" xmlns:xlink=\"http://www.w3.org/1999/xlink\" width=\"100.0\" height=\"104.64011999825016\" viewBox=\"2615443.01044 1169958.049440001 66.49012000020593 104.64011999825016\" preserveAspectRatio=\"xMinYMin meet\"><g transform=\"matrix(1,0,0,-1,0,2340020.739)\"><g><path fill-rule=\"evenodd\" fill=\"#66cc99\" stroke=\"#555555\" stroke-width=\"2.0\" opacity=\"0.6\" d=\"M 2615457.4899999984,1170024.4530000016 L 2615461.515999999,1170026.2600000016 L 2615469.7179999985,1170007.9930000007 L 2615458.489,1170002.9530000016 L 2615453.6229999997,1170013.7939999998 L 2615457.4899999984,1170024.4530000016 z\" /><path fill-rule=\"evenodd\" fill=\"#66cc99\" stroke=\"#555555\" stroke-width=\"2.0\" opacity=\"0.6\" d=\"M 2615463.096000001,1169973.4690000005 L 2615466.1460000016,1169966.4039999992 L 2615455.7690000013,1169961.9250000007 L 2615446.886,1169982.5089999996 L 2615457.822999999,1169987.2289999984 L 2615453.666000001,1169996.3630000018 L 2615464.232999999,1170001.171 L 2615464.504999999,1170000.5700000003 L 2615464.545000002,1170000.5909999982 L 2615464.8200000003,1170000.734000001 L 2615472.3049999997,1170004.2800000012 L 2615461.848000001,1170027.1900000013 L 2615462.028999999,1170027.2729999982 L 2615458.5009999983,1170035.0029999986 L 2615466.357999999,1170054.4459999986 L 2615475.925999999,1170058.8139999993 L 2615485.289000001,1170038.3159999996 L 2615485.4439999983,1170037.9609999992 L 2615485.6460000016,1170038.0540000014 L 2615497.09,1170012.984000001 L 2615499.597600002,1170005.7963000014 L 2615505.625,1169991.822999999 L 2615463.545000002,1169973.6609999985 L 2615463.421,1169973.5940000005 L 2615463.096000001,1169973.4690000005 z\" /></g></g></svg>"
      ],
      "text/plain": [
       "<MULTIPOLYGON (((2615457.49 1170024.453, 2615461.516 1170026.26, 2615469.718...>"
      ]
     },
     "metadata": {},
     "output_type": "display_data"
    }
   ],
   "source": [
    "# multiple polygon building footprint\n",
    "display(areas.iloc[42].polygons)\n",
    "display(areas.iloc[78].polygons)\n",
    "display(areas.iloc[102].polygons)\n",
    "display(areas.iloc[154].polygons)\n",
    "display(areas.iloc[229].polygons)\n",
    "display(areas.iloc[51].polygons)\n",
    "display(areas.iloc[325].polygons)"
   ]
  },
  {
   "cell_type": "markdown",
   "metadata": {},
   "source": [
    "At first all looks good, however some polygons have not been partitioned very well. (A better approach is needed here.)"
   ]
  },
  {
   "cell_type": "code",
   "execution_count": 78,
   "metadata": {},
   "outputs": [
    {
     "data": {
      "text/plain": [
       "457818"
      ]
     },
     "metadata": {},
     "output_type": "display_data"
    },
    {
     "data": {
      "text/plain": [
       "2"
      ]
     },
     "metadata": {},
     "output_type": "display_data"
    },
    {
     "data": {
      "text/plain": [
       "shapely.geometry.multipolygon.MultiPolygon"
      ]
     },
     "metadata": {},
     "output_type": "display_data"
    },
    {
     "data": {
      "image/svg+xml": [
       "<svg xmlns=\"http://www.w3.org/2000/svg\" xmlns:xlink=\"http://www.w3.org/1999/xlink\" width=\"118.097999997437\" height=\"100.0\" viewBox=\"2611627.222000001 1268831.0919999983 118.097999997437 61.63500000163913\" preserveAspectRatio=\"xMinYMin meet\"><g transform=\"matrix(1,0,0,-1,0,2537723.8189999983)\"><g><path fill-rule=\"evenodd\" fill=\"#66cc99\" stroke=\"#555555\" stroke-width=\"2.0\" opacity=\"0.6\" d=\"M 2611740.91,1268870.960000001 L 2611740.9459999986,1268853.7509999983 L 2611739.1909999996,1268853.7479999997 L 2611739.1939999983,1268853.125 L 2611723.4679999985,1268853.0909999982 L 2611723.5040000007,1268835.6559999995 L 2611631.596000001,1268835.4659999982 L 2611729.2399999984,1268875.5419999994 L 2611729.1889999993,1268872.1229999997 L 2611723.9310000017,1268872.2014999986 L 2611723.9340000004,1268870.925999999 L 2611740.91,1268870.960000001 z\" /><path fill-rule=\"evenodd\" fill=\"#66cc99\" stroke=\"#555555\" stroke-width=\"2.0\" opacity=\"0.6\" d=\"M 2611739.9349999987,1268887.1279999986 L 2611739.774,1268876.3999999985 L 2611658.2870000005,1268888.3530000001 L 2611739.9349999987,1268887.1279999986 z\" /></g></g></svg>"
      ],
      "text/plain": [
       "<MULTIPOLYGON (((2611740.91 1268870.96, 2611740.946 1268853.751, 2611739.191...>"
      ]
     },
     "metadata": {},
     "output_type": "display_data"
    }
   ],
   "source": [
    "display(areas.iloc[42]['Id'])\n",
    "display(len(areas.iloc[42].polygons.geoms))\n",
    "display(type(areas.iloc[42].polygons))\n",
    "display(areas.iloc[42].polygons)\n"
   ]
  },
  {
   "cell_type": "code",
   "execution_count": 79,
   "metadata": {},
   "outputs": [
    {
     "data": {
      "text/plain": [
       "(1836, 4)"
      ]
     },
     "execution_count": 79,
     "metadata": {},
     "output_type": "execute_result"
    }
   ],
   "source": [
    "areas.shape"
   ]
  },
  {
   "cell_type": "markdown",
   "metadata": {},
   "source": [
    "Lets keep only the building geometries that consist only of one polygon."
   ]
  },
  {
   "cell_type": "code",
   "execution_count": 80,
   "metadata": {},
   "outputs": [
    {
     "data": {
      "text/plain": [
       "(1765, 4)"
      ]
     },
     "execution_count": 80,
     "metadata": {},
     "output_type": "execute_result"
    }
   ],
   "source": [
    "import shapely\n",
    "cleaned_areas = areas[areas['polygons'].apply(lambda x: type(x) == shapely.geometry.polygon.Polygon)]\n",
    "cleaned_areas.shape"
   ]
  },
  {
   "cell_type": "markdown",
   "metadata": {},
   "source": [
    "We observe that we have less data about building geometry compared to what we have from the building register. Lets do an inner merge of the two datasets."
   ]
  },
  {
   "cell_type": "code",
   "execution_count": 81,
   "metadata": {},
   "outputs": [
    {
     "data": {
      "text/plain": [
       "(1998, 15)"
      ]
     },
     "execution_count": 81,
     "metadata": {},
     "output_type": "execute_result"
    }
   ],
   "source": [
    "buildings_filtered.shape"
   ]
  },
  {
   "cell_type": "code",
   "execution_count": 82,
   "metadata": {},
   "outputs": [
    {
     "data": {
      "text/html": [
       "<div>\n",
       "<style scoped>\n",
       "    .dataframe tbody tr th:only-of-type {\n",
       "        vertical-align: middle;\n",
       "    }\n",
       "\n",
       "    .dataframe tbody tr th {\n",
       "        vertical-align: top;\n",
       "    }\n",
       "\n",
       "    .dataframe thead th {\n",
       "        text-align: right;\n",
       "    }\n",
       "</style>\n",
       "<table border=\"1\" class=\"dataframe\">\n",
       "  <thead>\n",
       "    <tr style=\"text-align: right;\">\n",
       "      <th></th>\n",
       "      <th>Id</th>\n",
       "      <th>area</th>\n",
       "      <th>perimeter</th>\n",
       "      <th>municipality</th>\n",
       "      <th>address</th>\n",
       "      <th>canton</th>\n",
       "      <th>status</th>\n",
       "      <th>category</th>\n",
       "      <th>class</th>\n",
       "      <th>year</th>\n",
       "      <th>stories</th>\n",
       "      <th>certificate</th>\n",
       "      <th>standard</th>\n",
       "      <th>longitude_ch</th>\n",
       "      <th>latitude_ch</th>\n",
       "      <th>energy</th>\n",
       "      <th>ERA</th>\n",
       "    </tr>\n",
       "  </thead>\n",
       "  <tbody>\n",
       "    <tr>\n",
       "      <th>0</th>\n",
       "      <td>8267</td>\n",
       "      <td>50.684752</td>\n",
       "      <td>111.944161</td>\n",
       "      <td>Dachsen</td>\n",
       "      <td>Bahnhofstrasse 4</td>\n",
       "      <td>ZH</td>\n",
       "      <td>1004</td>\n",
       "      <td>1020</td>\n",
       "      <td>1110.0</td>\n",
       "      <td>1846.0</td>\n",
       "      <td>2.0</td>\n",
       "      <td>ZH-3248</td>\n",
       "      <td>Minergie</td>\n",
       "      <td>688346.0</td>\n",
       "      <td>280218.0</td>\n",
       "      <td>7540.0</td>\n",
       "      <td>231</td>\n",
       "    </tr>\n",
       "    <tr>\n",
       "      <th>1</th>\n",
       "      <td>9089</td>\n",
       "      <td>45.436243</td>\n",
       "      <td>90.748115</td>\n",
       "      <td>Feuerthalen</td>\n",
       "      <td>Scheibenäckerstrasse 6</td>\n",
       "      <td>ZH</td>\n",
       "      <td>1004</td>\n",
       "      <td>1020</td>\n",
       "      <td>1110.0</td>\n",
       "      <td>1956.0</td>\n",
       "      <td>3.0</td>\n",
       "      <td>ZH-208-P</td>\n",
       "      <td>Minergie_P</td>\n",
       "      <td>691016.0</td>\n",
       "      <td>282780.0</td>\n",
       "      <td>7598.0</td>\n",
       "      <td>281</td>\n",
       "    </tr>\n",
       "    <tr>\n",
       "      <th>2</th>\n",
       "      <td>9232</td>\n",
       "      <td>51.882385</td>\n",
       "      <td>137.947371</td>\n",
       "      <td>Feuerthalen</td>\n",
       "      <td>Kirchweg 134</td>\n",
       "      <td>ZH</td>\n",
       "      <td>1004</td>\n",
       "      <td>1020</td>\n",
       "      <td>1110.0</td>\n",
       "      <td>1952.0</td>\n",
       "      <td>2.0</td>\n",
       "      <td>ZH-7089</td>\n",
       "      <td>Minergie</td>\n",
       "      <td>691483.0</td>\n",
       "      <td>282339.0</td>\n",
       "      <td>7598.0</td>\n",
       "      <td>187</td>\n",
       "    </tr>\n",
       "    <tr>\n",
       "      <th>3</th>\n",
       "      <td>9696</td>\n",
       "      <td>59.397324</td>\n",
       "      <td>149.386657</td>\n",
       "      <td>Flurlingen</td>\n",
       "      <td>Hallauerweg 8</td>\n",
       "      <td>ZH</td>\n",
       "      <td>1004</td>\n",
       "      <td>1020</td>\n",
       "      <td>1110.0</td>\n",
       "      <td>1973.0</td>\n",
       "      <td>2.0</td>\n",
       "      <td>ZH-5037</td>\n",
       "      <td>Minergie</td>\n",
       "      <td>689475.0</td>\n",
       "      <td>282189.0</td>\n",
       "      <td>7530.0</td>\n",
       "      <td>178</td>\n",
       "    </tr>\n",
       "    <tr>\n",
       "      <th>4</th>\n",
       "      <td>11139</td>\n",
       "      <td>58.814565</td>\n",
       "      <td>160.838809</td>\n",
       "      <td>Laufen-Uhwiesen</td>\n",
       "      <td>Schulstrasse 37</td>\n",
       "      <td>ZH</td>\n",
       "      <td>1004</td>\n",
       "      <td>1020</td>\n",
       "      <td>1110.0</td>\n",
       "      <td>1968.0</td>\n",
       "      <td>2.0</td>\n",
       "      <td>ZH-394</td>\n",
       "      <td>Minergie</td>\n",
       "      <td>689374.0</td>\n",
       "      <td>280936.0</td>\n",
       "      <td>7530.0</td>\n",
       "      <td>263</td>\n",
       "    </tr>\n",
       "  </tbody>\n",
       "</table>\n",
       "</div>"
      ],
      "text/plain": [
       "      Id       area   perimeter     municipality                 address  \\\n",
       "0   8267  50.684752  111.944161          Dachsen        Bahnhofstrasse 4   \n",
       "1   9089  45.436243   90.748115      Feuerthalen  Scheibenäckerstrasse 6   \n",
       "2   9232  51.882385  137.947371      Feuerthalen            Kirchweg 134   \n",
       "3   9696  59.397324  149.386657       Flurlingen           Hallauerweg 8   \n",
       "4  11139  58.814565  160.838809  Laufen-Uhwiesen         Schulstrasse 37   \n",
       "\n",
       "  canton  status  category   class    year  stories certificate    standard  \\\n",
       "0     ZH    1004      1020  1110.0  1846.0      2.0     ZH-3248    Minergie   \n",
       "1     ZH    1004      1020  1110.0  1956.0      3.0    ZH-208-P  Minergie_P   \n",
       "2     ZH    1004      1020  1110.0  1952.0      2.0     ZH-7089    Minergie   \n",
       "3     ZH    1004      1020  1110.0  1973.0      2.0     ZH-5037    Minergie   \n",
       "4     ZH    1004      1020  1110.0  1968.0      2.0      ZH-394    Minergie   \n",
       "\n",
       "   longitude_ch  latitude_ch  energy  ERA  \n",
       "0      688346.0     280218.0  7540.0  231  \n",
       "1      691016.0     282780.0  7598.0  281  \n",
       "2      691483.0     282339.0  7598.0  187  \n",
       "3      689475.0     282189.0  7530.0  178  \n",
       "4      689374.0     280936.0  7530.0  263  "
      ]
     },
     "execution_count": 82,
     "metadata": {},
     "output_type": "execute_result"
    }
   ],
   "source": [
    "df_merged = pd.merge(cleaned_areas, buildings_filtered, right_on=['Id'], left_on=['Id'], how='inner').drop(columns='polygons')\n",
    "df_merged.head()"
   ]
  },
  {
   "cell_type": "code",
   "execution_count": 83,
   "metadata": {},
   "outputs": [
    {
     "data": {
      "text/plain": [
       "(1553, 17)"
      ]
     },
     "execution_count": 83,
     "metadata": {},
     "output_type": "execute_result"
    }
   ],
   "source": [
    "df_merged.shape"
   ]
  },
  {
   "cell_type": "code",
   "execution_count": 84,
   "metadata": {},
   "outputs": [
    {
     "data": {
      "text/plain": [
       "(1414, 17)"
      ]
     },
     "execution_count": 84,
     "metadata": {},
     "output_type": "execute_result"
    }
   ],
   "source": [
    "# clean missing values\n",
    "df_clean = df_merged[(df_merged['stories'].isna() == False) & (df_merged['year'].isna() == False)]\n",
    "df_clean.shape"
   ]
  },
  {
   "cell_type": "code",
   "execution_count": 85,
   "metadata": {},
   "outputs": [
    {
     "data": {
      "text/plain": [
       "<Axes: >"
      ]
     },
     "execution_count": 85,
     "metadata": {},
     "output_type": "execute_result"
    },
    {
     "data": {
      "image/png": "[encoded data removed]",
      "text/plain": [
       "<Figure size 640x480 with 1 Axes>"
      ]
     },
     "metadata": {},
     "output_type": "display_data"
    }
   ],
   "source": [
    "df_clean['stories'].hist()"
   ]
  },
  {
   "cell_type": "code",
   "execution_count": 86,
   "metadata": {},
   "outputs": [
    {
     "data": {
      "text/html": [
       "<div>\n",
       "<style scoped>\n",
       "    .dataframe tbody tr th:only-of-type {\n",
       "        vertical-align: middle;\n",
       "    }\n",
       "\n",
       "    .dataframe tbody tr th {\n",
       "        vertical-align: top;\n",
       "    }\n",
       "\n",
       "    .dataframe thead th {\n",
       "        text-align: right;\n",
       "    }\n",
       "</style>\n",
       "<table border=\"1\" class=\"dataframe\">\n",
       "  <thead>\n",
       "    <tr style=\"text-align: right;\">\n",
       "      <th></th>\n",
       "      <th>area</th>\n",
       "      <th>perimeter</th>\n",
       "      <th>stories</th>\n",
       "      <th>ERA</th>\n",
       "    </tr>\n",
       "  </thead>\n",
       "  <tbody>\n",
       "    <tr>\n",
       "      <th>0</th>\n",
       "      <td>50.684752</td>\n",
       "      <td>111.944161</td>\n",
       "      <td>2.0</td>\n",
       "      <td>231.0</td>\n",
       "    </tr>\n",
       "    <tr>\n",
       "      <th>1</th>\n",
       "      <td>45.436243</td>\n",
       "      <td>90.748115</td>\n",
       "      <td>3.0</td>\n",
       "      <td>281.0</td>\n",
       "    </tr>\n",
       "    <tr>\n",
       "      <th>2</th>\n",
       "      <td>51.882385</td>\n",
       "      <td>137.947371</td>\n",
       "      <td>2.0</td>\n",
       "      <td>187.0</td>\n",
       "    </tr>\n",
       "    <tr>\n",
       "      <th>3</th>\n",
       "      <td>59.397324</td>\n",
       "      <td>149.386657</td>\n",
       "      <td>2.0</td>\n",
       "      <td>178.0</td>\n",
       "    </tr>\n",
       "    <tr>\n",
       "      <th>4</th>\n",
       "      <td>58.814565</td>\n",
       "      <td>160.838809</td>\n",
       "      <td>2.0</td>\n",
       "      <td>263.0</td>\n",
       "    </tr>\n",
       "  </tbody>\n",
       "</table>\n",
       "</div>"
      ],
      "text/plain": [
       "        area   perimeter  stories    ERA\n",
       "0  50.684752  111.944161      2.0  231.0\n",
       "1  45.436243   90.748115      3.0  281.0\n",
       "2  51.882385  137.947371      2.0  187.0\n",
       "3  59.397324  149.386657      2.0  178.0\n",
       "4  58.814565  160.838809      2.0  263.0"
      ]
     },
     "execution_count": 86,
     "metadata": {},
     "output_type": "execute_result"
    }
   ],
   "source": [
    "initial_data = df_clean[['area','perimeter', 'stories', 'ERA']].astype(float)\n",
    "initial_data.head()"
   ]
  },
  {
   "cell_type": "code",
   "execution_count": 87,
   "metadata": {},
   "outputs": [
    {
     "data": {
      "text/html": [
       "<div>\n",
       "<style scoped>\n",
       "    .dataframe tbody tr th:only-of-type {\n",
       "        vertical-align: middle;\n",
       "    }\n",
       "\n",
       "    .dataframe tbody tr th {\n",
       "        vertical-align: top;\n",
       "    }\n",
       "\n",
       "    .dataframe thead th {\n",
       "        text-align: right;\n",
       "    }\n",
       "</style>\n",
       "<table border=\"1\" class=\"dataframe\">\n",
       "  <thead>\n",
       "    <tr style=\"text-align: right;\">\n",
       "      <th></th>\n",
       "      <th>area</th>\n",
       "      <th>gross_area</th>\n",
       "      <th>perimeter</th>\n",
       "      <th>stories</th>\n",
       "      <th>ERA</th>\n",
       "    </tr>\n",
       "  </thead>\n",
       "  <tbody>\n",
       "    <tr>\n",
       "      <th>0</th>\n",
       "      <td>50.684752</td>\n",
       "      <td>101.369504</td>\n",
       "      <td>111.944161</td>\n",
       "      <td>2.0</td>\n",
       "      <td>231.0</td>\n",
       "    </tr>\n",
       "    <tr>\n",
       "      <th>1</th>\n",
       "      <td>45.436243</td>\n",
       "      <td>136.308728</td>\n",
       "      <td>90.748115</td>\n",
       "      <td>3.0</td>\n",
       "      <td>281.0</td>\n",
       "    </tr>\n",
       "    <tr>\n",
       "      <th>2</th>\n",
       "      <td>51.882385</td>\n",
       "      <td>103.764769</td>\n",
       "      <td>137.947371</td>\n",
       "      <td>2.0</td>\n",
       "      <td>187.0</td>\n",
       "    </tr>\n",
       "    <tr>\n",
       "      <th>3</th>\n",
       "      <td>59.397324</td>\n",
       "      <td>118.794647</td>\n",
       "      <td>149.386657</td>\n",
       "      <td>2.0</td>\n",
       "      <td>178.0</td>\n",
       "    </tr>\n",
       "    <tr>\n",
       "      <th>4</th>\n",
       "      <td>58.814565</td>\n",
       "      <td>117.629131</td>\n",
       "      <td>160.838809</td>\n",
       "      <td>2.0</td>\n",
       "      <td>263.0</td>\n",
       "    </tr>\n",
       "  </tbody>\n",
       "</table>\n",
       "</div>"
      ],
      "text/plain": [
       "        area  gross_area   perimeter  stories    ERA\n",
       "0  50.684752  101.369504  111.944161      2.0  231.0\n",
       "1  45.436243  136.308728   90.748115      3.0  281.0\n",
       "2  51.882385  103.764769  137.947371      2.0  187.0\n",
       "3  59.397324  118.794647  149.386657      2.0  178.0\n",
       "4  58.814565  117.629131  160.838809      2.0  263.0"
      ]
     },
     "execution_count": 87,
     "metadata": {},
     "output_type": "execute_result"
    }
   ],
   "source": [
    "data = initial_data.copy()\n",
    "data.insert(1, \"gross_area\", initial_data['area'] * initial_data['stories'])\n",
    "data.head()"
   ]
  },
  {
   "cell_type": "code",
   "execution_count": 88,
   "metadata": {
    "scrolled": true
   },
   "outputs": [
    {
     "data": {
      "text/plain": [
       "<Axes: xlabel='ERA', ylabel='Count'>"
      ]
     },
     "execution_count": 88,
     "metadata": {},
     "output_type": "execute_result"
    },
    {
     "data": {
      "image/png": "[encoded data removed]",
      "text/plain": [
       "<Figure size 2500x500 with 5 Axes>"
      ]
     },
     "metadata": {},
     "output_type": "display_data"
    }
   ],
   "source": [
    "import warnings\n",
    "warnings.filterwarnings('ignore')\n",
    "\n",
    "\n",
    "fig, axs = plt.subplots(ncols=5, figsize=(25, 5))\n",
    "\n",
    "sns.histplot(\n",
    "    data.area, kde=True,\n",
    "    stat=\"count\", kde_kws=dict(cut=3),\n",
    "    alpha=.4, edgecolor=(1, 1, 1, .4),ax=axs[0]\n",
    ")\n",
    "\n",
    "sns.histplot(\n",
    "    data.gross_area, kde=True,\n",
    "    stat=\"count\", kde_kws=dict(cut=3),\n",
    "    alpha=.4, edgecolor=(1, 1, 1, .4),ax=axs[1]\n",
    ")\n",
    "\n",
    "sns.histplot(\n",
    "    data.perimeter, kde=True,\n",
    "    stat=\"count\", kde_kws=dict(cut=3),\n",
    "    alpha=.4, edgecolor=(1, 1, 1, .4),ax=axs[2]\n",
    ")\n",
    "\n",
    "sns.histplot(\n",
    "    data.stories, kde=True,\n",
    "    stat=\"count\", kde_kws=dict(cut=3),\n",
    "    alpha=.4, edgecolor=(1, 1, 1, .4),ax=axs[3]\n",
    ")\n",
    "\n",
    "sns.histplot(\n",
    "    data.ERA, kde=True,\n",
    "    stat=\"count\", kde_kws=dict(cut=3),\n",
    "    alpha=.4, edgecolor=(1, 1, 1, .4),ax=axs[4]\n",
    ")"
   ]
  },
  {
   "cell_type": "markdown",
   "metadata": {},
   "source": [
    "We see that there are some outlier datapoints. Lets remove them and see if we get a better relationship."
   ]
  },
  {
   "cell_type": "code",
   "execution_count": 98,
   "metadata": {
    "scrolled": true
   },
   "outputs": [
    {
     "data": {
      "text/plain": [
       "[Text(0.5, 0, 'Energy Reference Area')]"
      ]
     },
     "execution_count": 98,
     "metadata": {},
     "output_type": "execute_result"
    },
    {
     "data": {
      "image/png": "[encoded data removed]",
      "text/plain": [
       "<Figure size 1200x800 with 4 Axes>"
      ]
     },
     "metadata": {},
     "output_type": "display_data"
    }
   ],
   "source": [
    "import warnings\n",
    "warnings.filterwarnings('ignore')\n",
    "\n",
    "\n",
    "cut_data = data[(data.area > 30) & (data.ERA > 40) & (data.perimeter > 50) & (data.gross_area < 1000)]\n",
    "\n",
    "fig, axs = plt.subplots(ncols=2, nrows=2, figsize=(12, 8))\n",
    "\n",
    "sns.histplot(\n",
    "    cut_data.area, kde=False,\n",
    "    stat=\"count\", kde_kws=dict(cut=3),\n",
    "    color='#1c2321',\n",
    "    edgecolor=(1, 1, 1, .4),ax=axs[0,0]\n",
    ")\n",
    "\n",
    "axs[0,0].set(xlabel='Footprint Area')\n",
    "\n",
    "sns.histplot(\n",
    "    cut_data.stories, kde=False,\n",
    "    stat=\"count\", kde_kws=dict(cut=3),\n",
    "    color=\"#7d98a1\",\n",
    "    edgecolor=(1, 1, 1, .4),ax=axs[0,1]\n",
    ")\n",
    "\n",
    "axs[0,1].set(xlabel='Number of Floors')\n",
    "\n",
    "sns.histplot(\n",
    "    cut_data.perimeter, kde=False,\n",
    "    stat=\"count\", kde_kws=dict(cut=3),\n",
    "    color=\"#5e6572\",\n",
    "    edgecolor=(1, 1, 1, .4),ax=axs[1,0]\n",
    ")\n",
    "\n",
    "axs[1,0].set(xlabel='Footprint Perimeter')\n",
    "\n",
    "sns.histplot(\n",
    "    cut_data.ERA, kde=False,\n",
    "    stat=\"count\", kde_kws=dict(cut=3),\n",
    "    color=\"#B4045A\",\n",
    "    edgecolor=(1, 1, 1, .4),ax=axs[1,1]\n",
    ")\n",
    "\n",
    "axs[1,1].set(xlabel='Energy Reference Area')"
   ]
  },
  {
   "cell_type": "code",
   "execution_count": 90,
   "metadata": {},
   "outputs": [
    {
     "data": {
      "text/plain": [
       "(1378, 5)"
      ]
     },
     "execution_count": 90,
     "metadata": {},
     "output_type": "execute_result"
    }
   ],
   "source": [
    "cut_data.shape"
   ]
  },
  {
   "cell_type": "code",
   "execution_count": 91,
   "metadata": {},
   "outputs": [
    {
     "data": {
      "text/plain": [
       "<matplotlib.collections.PathCollection at 0x21a49c0f1a0>"
      ]
     },
     "execution_count": 91,
     "metadata": {},
     "output_type": "execute_result"
    },
    {
     "data": {
      "image/png": "[encoded data removed]",
      "text/plain": [
       "<Figure size 640x480 with 1 Axes>"
      ]
     },
     "metadata": {},
     "output_type": "display_data"
    }
   ],
   "source": [
    "plt.scatter(cut_data.area, cut_data.ERA)"
   ]
  },
  {
   "cell_type": "code",
   "execution_count": 92,
   "metadata": {},
   "outputs": [
    {
     "data": {
      "text/plain": [
       "<matplotlib.collections.PathCollection at 0x21a481fe240>"
      ]
     },
     "execution_count": 92,
     "metadata": {},
     "output_type": "execute_result"
    },
    {
     "data": {
      "image/png": "[encoded data removed]",
      "text/plain": [
       "<Figure size 640x480 with 1 Axes>"
      ]
     },
     "metadata": {},
     "output_type": "display_data"
    }
   ],
   "source": [
    "plt.scatter(cut_data.gross_area, cut_data.ERA)"
   ]
  },
  {
   "cell_type": "code",
   "execution_count": 93,
   "metadata": {},
   "outputs": [
    {
     "data": {
      "text/plain": [
       "<matplotlib.collections.PathCollection at 0x21a459b8f50>"
      ]
     },
     "execution_count": 93,
     "metadata": {},
     "output_type": "execute_result"
    },
    {
     "data": {
      "image/png": "[encoded data removed]",
      "text/plain": [
       "<Figure size 640x480 with 1 Axes>"
      ]
     },
     "metadata": {},
     "output_type": "display_data"
    }
   ],
   "source": [
    "plt.scatter(cut_data.perimeter, cut_data.ERA)"
   ]
  },
  {
   "cell_type": "markdown",
   "metadata": {},
   "source": [
    "Lets remove outliers so our prediction would be more precise."
   ]
  },
  {
   "cell_type": "code",
   "execution_count": 94,
   "metadata": {},
   "outputs": [
    {
     "data": {
      "text/plain": [
       "<Axes: >"
      ]
     },
     "execution_count": 94,
     "metadata": {},
     "output_type": "execute_result"
    },
    {
     "data": {
      "image/png": "[encoded data removed]",
      "text/plain": [
       "<Figure size 1100x900 with 2 Axes>"
      ]
     },
     "metadata": {},
     "output_type": "display_data"
    }
   ],
   "source": [
    "sns.set_theme(style=\"white\")\n",
    "\n",
    "\n",
    "# Compute the correlation matrix\n",
    "corr = cut_data.corr()\n",
    "\n",
    "# Generate a mask for the upper triangle\n",
    "mask = np.triu(np.ones_like(corr, dtype=bool))\n",
    "\n",
    "# Set up the matplotlib figure\n",
    "f, ax = plt.subplots(figsize=(11, 9))\n",
    "\n",
    "# Generate a custom diverging colormap\n",
    "cmap = sns.diverging_palette(230, 20, as_cmap=True)\n",
    "\n",
    "# Draw the heatmap with the mask and correct aspect ratio\n",
    "sns.heatmap(corr, mask=mask, cmap=cmap, vmax=.3, center=0,\n",
    "            square=True, linewidths=.5, cbar_kws={\"shrink\": .5})"
   ]
  },
  {
   "cell_type": "code",
   "execution_count": 95,
   "metadata": {},
   "outputs": [
    {
     "name": "stdout",
     "output_type": "stream",
     "text": [
      "Coefficients: \n",
      " [-13.57789286   3.93211606   2.5583997  -71.27600963]\n",
      "Mean squared error: 69972.78\n",
      "Coefficient of determination: 0.80\n"
     ]
    }
   ],
   "source": [
    "from sklearn import linear_model \n",
    "from sklearn.metrics import mean_squared_error, r2_score\n",
    "\n",
    "\n",
    "data_train = cut_data.iloc[:-100]\n",
    "data_test = cut_data.iloc[-100:]\n",
    "last = data_train.shape[1] - 1\n",
    "\n",
    "#Create linear regression object\n",
    "regr = linear_model.LinearRegression()\n",
    "\n",
    "# Train the model using the training sets\n",
    "regr.fit(data_train.iloc[:,0:last], data_train.iloc[:,last])\n",
    "\n",
    "\n",
    "# Make predictions using the testing set\n",
    "y_pred = np.round(regr.predict(data_test.iloc[:,:last]))\n",
    "\n",
    "# The coefficients\n",
    "print(\"Coefficients: \\n\", regr.coef_)\n",
    "# The mean squared error\n",
    "print(\"Mean squared error: %.2f\" % mean_squared_error(data_test.iloc[:,[last]], y_pred))\n",
    "# The coefficient of determination: 1 is perfect prediction\n",
    "print(\"Coefficient of determination: %.2f\" % r2_score(data_test.ERA, y_pred))\n"
   ]
  },
  {
   "cell_type": "code",
   "execution_count": 96,
   "metadata": {},
   "outputs": [
    {
     "name": "stdout",
     "output_type": "stream",
     "text": [
      "0.8028928376744138 0.7945935887343891\n"
     ]
    }
   ],
   "source": [
    "y = data_test.ERA.to_numpy()\n",
    "X = data_train.iloc[:,0:last]\n",
    "\n",
    "SS_Residual = sum((y-y_pred)**2)       \n",
    "SS_Total = sum((y-np.mean(y))**2)     \n",
    "r_squared = 1 - (float(SS_Residual))/SS_Total\n",
    "adjusted_r_squared = 1 - (1-r_squared)*(len(y)-1)/(len(y)-X.shape[1]-1)\n",
    "print (r_squared, adjusted_r_squared)"
   ]
  },
  {
   "cell_type": "markdown",
   "metadata": {},
   "source": [
    "Although we obtained a relatively good R-squared value, the MSE is much too high."
   ]
  },
  {
   "cell_type": "code",
   "execution_count": 97,
   "metadata": {},
   "outputs": [
    {
     "data": {
      "text/plain": [
       "(array([ 250.,  342.,  858.,  315., 1147.,  174.,  174.,  174.,  174.,\n",
       "         174.,  174.,  174.,  174.,  227.,  182.,  182.,  182.,  182.,\n",
       "         182., 3381., 1638., 1638., 1638., 1638., 1638., 1638., 1638.,\n",
       "        1638.,  216., 1638.,  280.,  216.,  250.,  209.,  200., 2050.,\n",
       "         209., 1196.,  242., 1059., 1059.,  220.,  179.,  172.,  260.,\n",
       "         240.,  896., 1088.,  378.,  307.,  234.,  241.,  162., 1222.,\n",
       "         151.,  277.,  181.,  200.,  199.,  387.,  300.,  178.,  939.,\n",
       "        1034.,  209.,  177.,  179., 1196., 1196.,  421.,  824.,  179.,\n",
       "         363.,  187., 1687.,  180.,  255.,  277.,  758.,  758.,  293.,\n",
       "         237.,  324.,  342.,  242.,  223.,  416.,  366.,  135.,  266.,\n",
       "        1457.,  253.,  206.,  322., 1446.,  190., 1196.,  445., 1382.,\n",
       "         200.]),\n",
       " array([ 257.,  367.,  737.,  241., 1006.,  384.,  542.,  382.,  530.,\n",
       "         549.,  532.,  697.,  534.,  239.,  181.,  151.,  181.,  152.,\n",
       "         152., 3058., 1548., 1489., 1447., 1459., 1573., 1447., 1548.,\n",
       "        1573.,  325., 1475.,  336., 1187.,  212.,  182.,  186.,  175.,\n",
       "         176., 1250.,  220., 1065., 1032.,  218.,  241.,  234.,  287.,\n",
       "         292.,  461., 1095.,  574.,  535.,  218.,  179.,  390., 1465.,\n",
       "         174.,  262.,  546.,  314.,  425.,  240.,  351.,  223.,  745.,\n",
       "         770.,  231.,  256.,  178., 1250., 1250.,  498.,  455.,  276.,\n",
       "         562.,  186., 1613.,  276.,  247.,  256.,  575.,  569.,  184.,\n",
       "         276.,  415.,  429.,  337.,  264.,  347.,  389.,   97.,  478.,\n",
       "        1319.,  223.,  276.,  312., 1368.,  245., 1098.,  401., 1309.,\n",
       "         215.]))"
      ]
     },
     "execution_count": 97,
     "metadata": {},
     "output_type": "execute_result"
    }
   ],
   "source": [
    "y, y_pred"
   ]
  },
  {
   "cell_type": "markdown",
   "metadata": {},
   "source": [
    "#### Conclusion\n",
    "\n",
    "Although we visually observed that there is a relationship between the selected variables, additional factors should be added and more data would be needed to build a better model."
   ]
  }
 ],
 "metadata": {
  "kernelspec": {
   "display_name": "week11",
   "language": "python",
   "name": "python3"
  },
  "language_info": {
   "codemirror_mode": {
    "name": "ipython",
    "version": 3
   },
   "file_extension": ".py",
   "mimetype": "text/x-python",
   "name": "python",
   "nbconvert_exporter": "python",
   "pygments_lexer": "ipython3",
   "version": "3.12.0"
  }
 },
 "nbformat": 4,
 "nbformat_minor": 2
}
